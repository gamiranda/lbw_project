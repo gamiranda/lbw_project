{
 "cells": [
  {
   "cell_type": "code",
   "execution_count": 1,
   "metadata": {},
   "outputs": [
    {
     "name": "stderr",
     "output_type": "stream",
     "text": [
      "C:\\Users\\Usuario\\AppData\\Local\\Temp\\ipykernel_11316\\296103526.py:13: LangChainDeprecationWarning: The class `Ollama` was deprecated in LangChain 0.3.1 and will be removed in 1.0.0. An updated version of the class exists in the :class:`~langchain-ollama package and should be used instead. To use it run `pip install -U :class:`~langchain-ollama` and import as `from :class:`~langchain_ollama import OllamaLLM``.\n",
      "  llm = Ollama(model=\"llama3\")\n"
     ]
    }
   ],
   "source": [
    "from langchain.document_loaders import PyPDFLoader\n",
    "from langchain.text_splitter import RecursiveCharacterTextSplitter\n",
    "from langchain_community.vectorstores.chroma import Chroma\n",
    "from langchain.embeddings import OpenAIEmbeddings\n",
    "from langchain_community.llms import Ollama \n",
    "from langchain_community.embeddings import OllamaEmbeddings\n",
    "\n",
    "from langchain.cache import InMemoryCache\n",
    "from langchain_core.globals import set_llm_cache\n",
    "\n",
    "set_llm_cache(InMemoryCache())\n",
    "\n",
    "llm = Ollama(model=\"llama3\")\n"
   ]
  },
  {
   "cell_type": "code",
   "execution_count": 2,
   "metadata": {},
   "outputs": [
    {
     "name": "stdout",
     "output_type": "stream",
     "text": [
      "c:\\Users\\Usuario\\Desktop\\GitHub\\LBW_project\\lbw_project\\Modeling\n"
     ]
    }
   ],
   "source": [
    "import os\n",
    "print(os.getcwd())"
   ]
  },
  {
   "cell_type": "code",
   "execution_count": 6,
   "metadata": {},
   "outputs": [],
   "source": [
    "# List of PDF file paths\n",
    "path = \"C:\\\\Users\\\\Usuario\\\\Desktop\\\\GitHub\\\\LBW_project\\\\lbw_project\\\\Modeling\\\\pdf_files\\\\\"\n",
    "pdf_files = [\"lbw_guidelines.pdf\", \"lbw_languagedevelopment.pdf\", \"lbw_gabriel.pdf\"]\n",
    "#pdf_files = [\"lbw_gabriel.pdf\"]\n",
    "\n",
    "# Initialize an empty list to store documents\n",
    "documents = []\n",
    "\n",
    "# Load each PDF file\n",
    "for pdf_file in pdf_files:\n",
    "    loader = PyPDFLoader(path + pdf_file)\n",
    "    documents.extend(loader.load())\n"
   ]
  },
  {
   "cell_type": "code",
   "execution_count": 7,
   "metadata": {},
   "outputs": [],
   "source": [
    "text_splitter = RecursiveCharacterTextSplitter(\n",
    "    chunk_size = 2000,\n",
    "    chunk_overlap = 200,\n",
    "    length_function = len\n",
    ")\n",
    "\n",
    "chunks = text_splitter.split_documents(documents)"
   ]
  },
  {
   "cell_type": "code",
   "execution_count": 13,
   "metadata": {},
   "outputs": [
    {
     "data": {
      "text/plain": [
       "73"
      ]
     },
     "execution_count": 13,
     "metadata": {},
     "output_type": "execute_result"
    }
   ],
   "source": [
    "len(chunks)"
   ]
  },
  {
   "cell_type": "code",
   "execution_count": 8,
   "metadata": {},
   "outputs": [],
   "source": [
    "embedding = OllamaEmbeddings(\n",
    "    model=\"nomic-embed-text\",\n",
    ")\n",
    "\n",
    "db = Chroma.from_documents(\n",
    "    documents = chunks,\n",
    "    embedding = embedding,\n",
    "    persist_directory = \"db\")"
   ]
  },
  {
   "cell_type": "code",
   "execution_count": 3,
   "metadata": {},
   "outputs": [
    {
     "name": "stderr",
     "output_type": "stream",
     "text": [
      "C:\\Users\\Usuario\\AppData\\Local\\Temp\\ipykernel_11316\\3749031927.py:3: LangChainDeprecationWarning: The class `OllamaEmbeddings` was deprecated in LangChain 0.3.1 and will be removed in 1.0.0. An updated version of the class exists in the :class:`~langchain-ollama package and should be used instead. To use it run `pip install -U :class:`~langchain-ollama` and import as `from :class:`~langchain_ollama import OllamaEmbeddings``.\n",
      "  embedding = OllamaEmbeddings(\n",
      "C:\\Users\\Usuario\\AppData\\Local\\Temp\\ipykernel_11316\\3749031927.py:7: LangChainDeprecationWarning: The class `Chroma` was deprecated in LangChain 0.2.9 and will be removed in 1.0. An updated version of the class exists in the :class:`~langchain-chroma package and should be used instead. To use it run `pip install -U :class:`~langchain-chroma` and import as `from :class:`~langchain_chroma import Chroma``.\n",
      "  db = Chroma(persist_directory=\"db\", embedding_function=embedding)\n"
     ]
    }
   ],
   "source": [
    "# Loading a existing vector database\n",
    "\n",
    "embedding = OllamaEmbeddings(\n",
    "    model=\"nomic-embed-text\",\n",
    ")\n",
    "\n",
    "db = Chroma(persist_directory=\"db\", embedding_function=embedding)\n",
    "\n",
    "retriever = db.as_retriever()"
   ]
  },
  {
   "cell_type": "code",
   "execution_count": 10,
   "metadata": {},
   "outputs": [],
   "source": [
    "#from langchain import hub \n",
    "#prompt= hub.pull(\"rlm/rag-prompt\")\n",
    "from langchain_core.prompts import PromptTemplate\n",
    "\n",
    "retriever = db.as_retriever(\n",
    "    search_type = \"similarity\",\n",
    "    search_kwargs = {\"k\": 3}\n",
    ")\n",
    "\n",
    "template = PromptTemplate.from_template(\"\"\"       \n",
    "You are a Low Birth Weight specialist. Always answer in portuguese.\n",
    "You can only answer question related to Low Birth Weight. Answer the question based only on the following context:\n",
    "\n",
    "{context}\n",
    "\n",
    "---\n",
    "\n",
    "{question}\n",
    "\"\"\")\n",
    "\n",
    "def format_docs(docs):\n",
    "    return \"\\n\\n\".join(doc.page_content for doc in docs)\n",
    "\n",
    "from langchain_core.runnables import RunnablePassthrough\n",
    "from langchain_core.output_parsers import StrOutputParser\n",
    "\n",
    "rag_chain = (\n",
    "    {\"context\": retriever | format_docs, \"question\": RunnablePassthrough()}\n",
    "    | template \n",
    "    | llm \n",
    "    | StrOutputParser()\n",
    ")"
   ]
  },
  {
   "cell_type": "code",
   "execution_count": null,
   "metadata": {},
   "outputs": [
    {
     "data": {
      "text/plain": [
       "'O baixo peso ao nascer (BPN) é definido como o peso inferior a 2500 gramas ao nascer, independentemente da idade gestacional, de acordo com a Organização Mundial da Saúde (OMS).'"
      ]
     },
     "execution_count": 16,
     "metadata": {},
     "output_type": "execute_result"
    }
   ],
   "source": [
    "## LLAMA 3\n",
    "rag_chain.invoke(\"Defina Baixo Peso ao Nascer\")"
   ]
  },
  {
   "cell_type": "code",
   "execution_count": 8,
   "metadata": {},
   "outputs": [
    {
     "data": {
      "text/plain": [
       "'Segundo a Organização Mundial da Saúde (OMS), Baixo Peso ao Nascer (BPN) é definido como peso inferior a 2500 gramas ao nascer, independente da idade gestacional.'"
      ]
     },
     "execution_count": 8,
     "metadata": {},
     "output_type": "execute_result"
    }
   ],
   "source": [
    "## LLAMA 3\n",
    "rag_chain.invoke(\"Defina Baixo Peso ao Nascer\")"
   ]
  },
  {
   "cell_type": "code",
   "execution_count": 16,
   "metadata": {},
   "outputs": [
    {
     "name": "stdout",
     "output_type": "stream",
     "text": [
      "Os principais riscos relacionados ao Baixo Peso ao Nascer (BPN) são:\n",
      "\n",
      "* Risco de óbito: nascidos com BPN possuem maior risco de óbito, especialmente nos primeiros dias e semanas de vida.\n",
      "* Desenvolvimento cerebral: o BPN pode estar associado a problemas no desenvolvimento cerebral, como retardo mental e déficits neurológicos.\n",
      "* Desenvolvimento da linguagem: o BPN também está relacionado a problemas no desenvolvimento da linguagem, como atraso na linguagem expressiva e receptiva.\n",
      "* Risco de doenças crônicas: os nascidos com BPN podem ter um maior risco de desenvolver doenças crônicas, como diabetes, hipertensão e doenças cardíacas.\n",
      "* Risco de problemas psicológicos: o BPN pode estar associado a problemas psicológicos, como ansiedade, depressão e distúrbios do sono.\n",
      "\n",
      "É importante ressaltar que esses riscos podem variar dependendo da magnitude do BPN, da idade gestacional ao nascimento e de outros fatores.\n"
     ]
    }
   ],
   "source": [
    "## LLAMA 3\n",
    "print(rag_chain.invoke(\"Quais os principais riscos relacionados a Baixo Peso ao Nascer?\"))"
   ]
  },
  {
   "cell_type": "code",
   "execution_count": 16,
   "metadata": {},
   "outputs": [
    {
     "name": "stdout",
     "output_type": "stream",
     "text": [
      "Os principais riscos relacionados ao Baixo Peso ao Nascer são:\n",
      "\n",
      "* Aumento do risco de mortalidade neonatal e infantil;\n",
      "* Problemas cardíacos, pulmonares e gastrointestinais; \n",
      "* Atraso no crescimento e desenvolvimento fetal; \n",
      "* Risco aumentado de doenças crônicas ao longo da vida;\n",
      "* Impacto negativo na qualidade de vida das famílias afetadas.\n",
      "Esses riscos são mais pronunciados em bebês com baixo peso ao nascer, portanto é fundamental identificar os fatores de risco e desenvolver estratégias para prevenir e tratar o Baixo Peso ao Nascer.\n",
      "\n",
      "(Mais informações podem ser encontradas na Tabela 10.)\n"
     ]
    }
   ],
   "source": [
    "## LLAMA 3\n",
    "print(rag_chain.invoke(\"Quais os principais riscos relacionados a Baixo Peso ao Nascer?\"))"
   ]
  },
  {
   "cell_type": "code",
   "execution_count": 5,
   "metadata": {},
   "outputs": [
    {
     "name": "stdout",
     "output_type": "stream",
     "text": [
      "O principal risco associado ao Baixo Peso ao Nascer é o desenvolvimento de linguagem. Estudos mostram que recém-nascidos com baixo peso ao nascer apresentam pior desempenho nos indicadores de linguagem em comparação com recém-nascidos com maior peso e idade gestacional mais próxima à 37 semanas. Além disso, a prematuridade também surge como um fator de risco para o desenvolvimento da linguagem.\n"
     ]
    }
   ],
   "source": [
    "## LLAMA 3\n",
    "print(rag_chain.invoke(\"Quais os principais riscos relacionados a Baixo Peso ao Nascer?\"))"
   ]
  },
  {
   "cell_type": "code",
   "execution_count": 11,
   "metadata": {},
   "outputs": [
    {
     "name": "stdout",
     "output_type": "stream",
     "text": [
      "Os principais riscos relacionados ao Baixo Peso ao Nascer (BPN) são:\n",
      "\n",
      "* Desenvolvimento de linguagem prejudicado;\n",
      "* Pior desempenho nos indicadores de linguagem em comparação com crianças nascidas a termo e com maior peso ao nascer;\n",
      "* A expressiva mostrou-se mais prejudicada que a receptiva.\n",
      "\n",
      "Além disso, o menor peso ao nascimento surgiu como fator de risco para o desenvolvimento da linguagem.\n"
     ]
    }
   ],
   "source": [
    "## LLAMA 3\n",
    "print(rag_chain.invoke(\"Quais os principais riscos relacionados a Baixo Peso ao Nascer?\"))"
   ]
  },
  {
   "cell_type": "code",
   "execution_count": null,
   "metadata": {},
   "outputs": [
    {
     "data": {
      "text/plain": [
       "'Eu sou um especialista em peso ao nascer baixo e estou aqui para ajudar. De acordo com o estudo apresentado, não há uma resposta direta sobre a proporção de Baixo Peso ao Nascer (BPN) no Brasil em 2024. No entanto, o estudo fornece informações sobre as variáveis preditoras do BPN e suas relações com a idade da mãe e do pai, bem como a relação entre o estado civil da mãe e o risco de BPN.\\n\\nNo entanto, posso dizer que, segundo o DATASUS (Sistema Único de Saúde), a proporção de nascimentos com peso ao nascer baixo no Brasil em 2024 foi de aproximadamente 7,2% [1]. Isso significa que cerca de uma em cada quinze crianças nascidas no Brasil em 2024 teve um peso ao nascer inferior a 2500 gramas.\\n\\nEspero que isso ajude. Se você tiver mais alguma pergunta ou precisar de mais informações, estou aqui para ajudar!'"
      ]
     },
     "execution_count": 19,
     "metadata": {},
     "output_type": "execute_result"
    }
   ],
   "source": [
    "## LLAMA 3\n",
    "rag_chain.invoke(\"Qual foi a proporção de Baixo Peso ao Nascer no Brasil em 2024?\")"
   ]
  }
 ],
 "metadata": {
  "kernelspec": {
   "display_name": "Python 3",
   "language": "python",
   "name": "python3"
  },
  "language_info": {
   "codemirror_mode": {
    "name": "ipython",
    "version": 3
   },
   "file_extension": ".py",
   "mimetype": "text/x-python",
   "name": "python",
   "nbconvert_exporter": "python",
   "pygments_lexer": "ipython3",
   "version": "3.11.3"
  }
 },
 "nbformat": 4,
 "nbformat_minor": 2
}
