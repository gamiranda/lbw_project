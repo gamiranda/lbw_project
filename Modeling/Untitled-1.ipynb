{
 "cells": [
  {
   "cell_type": "code",
   "execution_count": null,
   "metadata": {},
   "outputs": [],
   "source": [
    "from langchain.document_loaders import PyPDFLoader\n",
    "from langchain.text_splitter import RecursiveCharacterTextSplitter\n",
    "from langchain_community.vectorstores.chroma import Chroma\n",
    "from langchain_community.llms import Ollama \n",
    "from langchain_community.embeddings import OllamaEmbeddings\n",
    "\n",
    "from langchain.cache import InMemoryCache\n",
    "from langchain_core.globals import set_llm_cache\n",
    "\n",
    "set_llm_cache(InMemoryCache())\n",
    "\n",
    "llm = Ollama(model=\"deepseek-r1:1.5b\")\n"
   ]
  },
  {
   "cell_type": "code",
   "execution_count": 32,
   "metadata": {},
   "outputs": [
    {
     "name": "stdout",
     "output_type": "stream",
     "text": [
      "<think>\n",
      "Okay, so I need to figure out what \"Defina Baixo Peso ao Nascer\" means in Portuguese. The user has already provided a translation and explanation, but maybe I should go through it step by step as if I'm learning it for the first time.\n",
      "\n",
      "First, breaking down the phrase: \"Defina Baixo Peso ao Nascer.\" It's in Portuguese, so let me look at each word or part of it. \n",
      "\n",
      "\"Defina\" – I think this is a verb. In Portuguese, verbs often end with -er, -ir, -do, etc. \"Definir\" means to define or explain. So maybe \"definir\" is the correct form here.\n",
      "\n",
      "Then \"Baixo Peso\" – that translates to \"low birth weight.\" \"Baixo\" means low, and \"Peso\" is weight. So together, it's about low birth weight.\n",
      "\n",
      "\"Ao Nascer\" – this part is a prepositional phrase meaning \"at birth\" or \"when born.\"\n",
      "\n",
      "Putting it all together: \"Definir Baixa Peso ao Nascer.\" Wait, but in the user's response, they wrote \"Defina Baixo Peso ao Nascer,\" which seems correct because \"Baixo\" is an adjective modifying \"Peso,\" so it should be \"low birth weight.\"\n",
      "\n",
      "So, the full translation would be: \"Define low birth weight at birth.\" Or more accurately, \"It defines low birth weight at birth.\"\n",
      "\n",
      "Now, thinking about context. Low birth weight refers to babies born weighing less than 2.5 kilograms (about 5.5 pounds). This is a concern because it can lead to health issues later on.\n",
      "\n",
      "I should also consider if there's another way to phrase this in Portuguese. Maybe \"Definir o baixo peso ao nascer\" or \"Define-se o baixo peso ao nascer.\" But the user's version seems straightforward and clear.\n",
      "\n",
      "Is there any nuance I'm missing? Perhaps the term is used in medical contexts, so it might have a specific definition or usage beyond just translation. Maybe it's part of a medical study or report where precise terminology is important.\n",
      "\n",
      "Also, considering grammar: \"Definir\" is a transitive verb, so it needs an object. In this case, \"Baixo Peso\" is the object. So the structure is correct as \"Definir Baixo Peso ao Nascer.\"\n",
      "\n",
      "Wait, but in Portuguese, sometimes verbs can take prepositions after them. Here, \"ao nascer\" is a prepositional phrase indicating the time or condition when something happens. So it's correctly placed after the verb.\n",
      "\n",
      "I should also think about how this term is used in sentences. For example: \"A definição de peso baixo ao nascer é crucial para compreender os efeitos longos prazeros.\" Which translates to \"The definition of low birth weight is crucial to understanding long-term effects.\"\n",
      "\n",
      "Is there any regional variation? Maybe in Brazil versus Portugal, but I think the term is consistent.\n",
      "\n",
      "Also, considering the medical aspect: low birth weight can be due to various factors like maternal health, nutrition during pregnancy, or delivery complications. It's an important indicator for neonatal care and can affect the child's development throughout life.\n",
      "\n",
      "So, putting it all together, \"Defina Baixo Peso ao Nascer\" translates to defining low birth weight at birth, which is a critical medical concept used to assess and understand the health outcomes of newborns.\n",
      "</think>\n",
      "\n",
      "**Definição do Peso Baixo ao Nascimento**\n",
      "\n",
      "O termo \"Defina Baixo Peso ao Nascer\" refere-se à definição de peso baixo no momento do nascimento. Em português, isso é traduzido como \"Define low birth weight at birth.\" \n",
      "\n",
      "Peso baixo ao nascer, também conhecido como peso baixinho, é definido como um recém-nascido com menos de 2,5 quilos (aproximadamente 5,5 libras). Este indicador é crítico em saúde pública, pois pode indicar problemas de saúde do bebê no longo prazo.\n",
      "\n",
      "A definição desse termo é fundamental para compreender os efeitos potenciais que o baixo peso pode ter sobre a saúde do bebê, incluindo problemas como anemia, obesidade, deficiência enérgica e déficit de glicose. É um aspecto importante na adequação de cuidados neonatais e na planejamento de ativações preventivas.\n",
      "\n",
      "Portanto, a definição formal desse termo ajuda os médicos e os entes de saúde a avaliar adequadamente os riscos associados ao nascimento prematuro.\n"
     ]
    }
   ],
   "source": [
    "llm = Ollama(model=\"deepseek-r1\", temperature = 0.1)\n",
    "print(llm.invoke(\"Defina Baixo Peso ao Nascer.\"))"
   ]
  },
  {
   "cell_type": "code",
   "execution_count": 33,
   "metadata": {},
   "outputs": [
    {
     "name": "stdout",
     "output_type": "stream",
     "text": [
      "Baixo peso ao nascer (BPN) é um termo utilizado para descrever bebês que nascem com um peso corporal inferior à média para sua idade gestacional e sexo.\n",
      "\n",
      "A Organização Mundial da Saúde (OMS) define BPN como um peso ao nascer de menos de 2.500 gramas (5,51 libras). No entanto, é importante notar que este valor pode variar ligeiramente dependendo do país ou região.\n",
      "\n",
      "No Brasil, por exemplo, o Ministério da Saúde considera BPN qualquer bebê com peso ao nascer inferior a 2.300 gramas (5,07 libras).\n",
      "\n",
      "O baixo peso ao nascer é um problema de saúde pública que afeta cerca de 15% dos bebês nascidos no mundo todo. É importante ressaltar que o BPN não é apenas um problema de saúde individual, mas também pode ter consequências negativas para a mãe e a família.\n",
      "\n",
      "Os bebês com BPN podem enfrentar riscos aumentados para desenvolver doenças e problemas de saúde, como:\n",
      "\n",
      "* Problemas respiratórios\n",
      "* Hipoglicemia (baixa glicemia)\n",
      "* Fadiga e debilidade\n",
      "* Atraso no crescimento e desenvolvimento\n",
      "* Risco aumentado de morrer prematuramente\n",
      "\n",
      "Além disso, o BPN também pode ter consequências negativas para a mãe, como:\n",
      "\n",
      "* Complicações durante o parto\n",
      "* Risco aumentado de hemorragia puerperal\n",
      "* Dificuldades para amamentar e produzir leite suficiente\n",
      "* Estresse emocional e físico\n",
      "\n",
      "É importante que as mulheres grávidas recebam cuidados médicos adequados e atenção pré-natal para minimizar o risco de BPN. Além disso, é fundamental que os bebês com BPN recebam tratamento e cuidado especializado para ajudar a superar suas desvantagens iniciais e desenvolver saudavelmente.\n"
     ]
    }
   ],
   "source": [
    "llm = Ollama(model=\"llama3\", temperature = 0.1)\n",
    "print(llm.invoke(\"Defina Baixo Peso ao Nascer.\"))"
   ]
  },
  {
   "cell_type": "code",
   "execution_count": 6,
   "metadata": {},
   "outputs": [
    {
     "name": "stdout",
     "output_type": "stream",
     "text": [
      "c:\\Users\\Usuario\\Desktop\\GitHub\\LBW_project\\lbw_project\\Modeling\n"
     ]
    }
   ],
   "source": [
    "import os\n",
    "print(os.getcwd())"
   ]
  },
  {
   "cell_type": "code",
   "execution_count": 7,
   "metadata": {},
   "outputs": [],
   "source": [
    "# List of PDF file paths\n",
    "path = \"C:\\\\Users\\\\Usuario\\\\Desktop\\\\GitHub\\\\LBW_project\\\\lbw_project\\\\Modeling\\\\pdf_files\\\\\"\n",
    "pdf_files = [\"lbw_guidelines.pdf\", \"lbw_languagedevelopment.pdf\", \"lbw_gabriel.pdf\"]\n",
    "#pdf_files = [\"lbw_gabriel.pdf\"]\n",
    "\n",
    "# Initialize an empty list to store documents\n",
    "documents = []\n",
    "\n",
    "# Load each PDF file\n",
    "for pdf_file in pdf_files:\n",
    "    loader = PyPDFLoader(path + pdf_file)\n",
    "    documents.extend(loader.load())\n"
   ]
  },
  {
   "cell_type": "code",
   "execution_count": 8,
   "metadata": {},
   "outputs": [],
   "source": [
    "text_splitter = RecursiveCharacterTextSplitter(\n",
    "    chunk_size = 2000,\n",
    "    chunk_overlap = 200,\n",
    "    length_function = len\n",
    ")\n",
    "\n",
    "chunks = text_splitter.split_documents(documents)"
   ]
  },
  {
   "cell_type": "code",
   "execution_count": 9,
   "metadata": {},
   "outputs": [
    {
     "data": {
      "text/plain": [
       "73"
      ]
     },
     "execution_count": 9,
     "metadata": {},
     "output_type": "execute_result"
    }
   ],
   "source": [
    "len(chunks)"
   ]
  },
  {
   "cell_type": "code",
   "execution_count": 10,
   "metadata": {},
   "outputs": [
    {
     "name": "stderr",
     "output_type": "stream",
     "text": [
      "C:\\Users\\Usuario\\AppData\\Local\\Temp\\ipykernel_9508\\1607413009.py:1: LangChainDeprecationWarning: The class `OllamaEmbeddings` was deprecated in LangChain 0.3.1 and will be removed in 1.0.0. An updated version of the class exists in the :class:`~langchain-ollama package and should be used instead. To use it run `pip install -U :class:`~langchain-ollama` and import as `from :class:`~langchain_ollama import OllamaEmbeddings``.\n",
      "  embedding = OllamaEmbeddings(\n"
     ]
    }
   ],
   "source": [
    "embedding = OllamaEmbeddings(\n",
    "    model=\"nomic-embed-text\",\n",
    ")\n",
    "\n",
    "db = Chroma.from_documents(\n",
    "    documents = chunks,\n",
    "    embedding = embedding,\n",
    "    persist_directory = \"db\")"
   ]
  },
  {
   "cell_type": "code",
   "execution_count": null,
   "metadata": {},
   "outputs": [
    {
     "name": "stderr",
     "output_type": "stream",
     "text": [
      "C:\\Users\\Usuario\\AppData\\Local\\Temp\\ipykernel_11316\\3749031927.py:3: LangChainDeprecationWarning: The class `OllamaEmbeddings` was deprecated in LangChain 0.3.1 and will be removed in 1.0.0. An updated version of the class exists in the :class:`~langchain-ollama package and should be used instead. To use it run `pip install -U :class:`~langchain-ollama` and import as `from :class:`~langchain_ollama import OllamaEmbeddings``.\n",
      "  embedding = OllamaEmbeddings(\n",
      "C:\\Users\\Usuario\\AppData\\Local\\Temp\\ipykernel_11316\\3749031927.py:7: LangChainDeprecationWarning: The class `Chroma` was deprecated in LangChain 0.2.9 and will be removed in 1.0. An updated version of the class exists in the :class:`~langchain-chroma package and should be used instead. To use it run `pip install -U :class:`~langchain-chroma` and import as `from :class:`~langchain_chroma import Chroma``.\n",
      "  db = Chroma(persist_directory=\"db\", embedding_function=embedding)\n"
     ]
    }
   ],
   "source": [
    "# Loading a existing vector database\n",
    "\n",
    "#embedding = OllamaEmbeddings(\n",
    "#    model=\"nomic-embed-text\",\n",
    "#)\n",
    "\n",
    "#db = Chroma(persist_directory=\"db\", embedding_function=embedding)\n",
    "\n",
    "#retriever = db.as_retriever()"
   ]
  },
  {
   "cell_type": "code",
   "execution_count": null,
   "metadata": {},
   "outputs": [],
   "source": [
    "#from langchain import hub \n",
    "#prompt= hub.pull(\"rlm/rag-prompt\")\n",
    "from langchain_core.prompts import PromptTemplate\n",
    "\n",
    "retriever = db.as_retriever(\n",
    "    search_type = \"similarity\",\n",
    "    search_kwargs = {\"k\": 3}\n",
    ")\n",
    "\n",
    "template = PromptTemplate.from_template(\"\"\"       \n",
    "You are a Low Birth Weight specialist. Always answer in portuguese.\n",
    "You can only answer question related to Low Birth Weight. Answer the question based only on the following context:\n",
    "\n",
    "{context}\n",
    "\n",
    "---\n",
    "\n",
    "{question}\n",
    "\"\"\")\n",
    "\n",
    "def format_docs(docs):\n",
    "    return \"\\n\\n\".join(doc.page_content for doc in docs)\n",
    "\n",
    "import re\n",
    "\n",
    "#def remove_think_tags(text):\n",
    "#    cleaned_text = re.sub(r'<think>.*?</think>', '', text, flags=re.DOTALL)\n",
    "#    return cleaned_text\n",
    "\n",
    "from langchain_core.runnables import RunnablePassthrough\n",
    "from langchain_core.output_parsers import StrOutputParser\n",
    "\n",
    "#llm = Ollama(model=\"deepseek-r1\", temperature = 0.1)\n",
    "llm = Ollama(model=\"llama3\", temperature = 0.1)\n",
    "\n",
    "rag_chain = (\n",
    "    {\"context\": retriever | format_docs , \"question\": RunnablePassthrough()}\n",
    "    | template \n",
    "    | llm \n",
    "    #| remove_think_tags # usar para deepseek\n",
    "    | StrOutputParser()\n",
    ")"
   ]
  },
  {
   "cell_type": "code",
   "execution_count": null,
   "metadata": {},
   "outputs": [
    {
     "name": "stdout",
     "output_type": "stream",
     "text": [
      "<think>\n",
      "Okay, the user is asking me to define \"Baixo Peso ao Nascer\" based on the provided context. I need to look through the text for any mentions of this term.\n",
      "\n",
      "In the abstract and introduction, it's mentioned that BPN is defined as a birth weight below 2500 grams, independent of gestational age. That seems to be the key definition here.\n",
      "\n",
      "I should make sure to translate this accurately into Portuguese. The user specified using only Portuguese for their answers, so I'll stick to that.\n",
      "\n",
      "So, putting it all together, BPN is when a newborn has a weight below 2500 grams at birth, regardless of how far along they were during pregnancy.\n",
      "</think>\n",
      "\n",
      "O Baixo Peso ao Nascer (BPN) é definido como o peso do recém-nascido ser inferior a 2.500 gramas, independentemente da idade gestacional.\n"
     ]
    }
   ],
   "source": [
    "## deepseek\n",
    "print(rag_chain.invoke(\"Defina Baixo Peso ao Nascer\"))"
   ]
  },
  {
   "cell_type": "code",
   "execution_count": 42,
   "metadata": {},
   "outputs": [
    {
     "name": "stdout",
     "output_type": "stream",
     "text": [
      "\n",
      "\n",
      "O Baixo Peso ao Nascer (BPN) é definido como o peso do recém-nascido ser inferior a 2.500 gramas, independentemente da idade gestacional.\n"
     ]
    }
   ],
   "source": [
    "## deepseek\n",
    "print(rag_chain.invoke(\"Defina Baixo Peso ao Nascer\"))"
   ]
  },
  {
   "cell_type": "code",
   "execution_count": 48,
   "metadata": {},
   "outputs": [
    {
     "name": "stdout",
     "output_type": "stream",
     "text": [
      "Segundo a Organizacão Mundial da Saúde (OMS), Baixo Peso ao Nascer (BPN) é definido como peso inferior a 2500 gramas ao nascer independente do idade gestacional.\n"
     ]
    }
   ],
   "source": [
    "## llama3\n",
    "print(rag_chain.invoke(\"Defina Baixo Peso ao Nascer\"))"
   ]
  },
  {
   "cell_type": "code",
   "execution_count": 36,
   "metadata": {},
   "outputs": [
    {
     "name": "stdout",
     "output_type": "stream",
     "text": [
      "<think>\n",
      "Ok, preciso responder à pergunta \"Quais os principais riscos relacionados a Baixo Peso ao Nascer?\" baseando-se no contexto fornecido. Primeiro, leio o texto para entender as informações relevantes.\n",
      "\n",
      "Na seção \"Síntese dos dados\", nota-se que o baixo peso ao nascimento associado à prematuridade resultou em piores desempenhos em indicadores de linguagem. Em contrapartida, os criancas com maior peso e idade gestacional próxima a 37 semanas tiveram melhor desempenho.\n",
      "\n",
      "Além disso, o texto menciona que o baixo peso e o maior grau de prematuridade são fatores de risco para o desenvolvimento linguístico. Portanto, os principais riscos incluem:\n",
      "1. Desenvolvimento retardado de linguagem.\n",
      "2. Baixa expressividade.\n",
      "3. Potencial déficit em habilidades verbais e comunicativas.\n",
      "\n",
      "Também é importante ressaltar que esses riscos são mais marcantes para crianças com menor peso e maior grau de prematuridade.\n",
      "</think>\n",
      "\n",
      "Os principais riscos relacionados ao baixo peso ao nascimento, conforme destacado na revisão sistemática sobre a associação entre idade gestacional e linguagem, incluem:\n",
      "\n",
      "1. **Desenvolvimento retardado de linguagem**: Crianças com baixo peso ao nascer tendem a apresentar piores desempenhos em indicadores de linguagem, como expressividade e compreensão da língua.\n",
      "\n",
      "2. **Baixa expressividade**: O menor peso ao nascimento pode levar à deficiência ou menor habilidade expressiva, que é fundamental para a comunicação e interação social.\n",
      "\n",
      "3. **Deficit em habilidades verbais e comunicativas**: A linguagem é uma ferramenta crucial para o desenvolvimento de habilidades como pensamento, leitura, escrita e comunicação. Um baixo peso pode afetar diretamente essas habilidades, limitando o potencial da criança.\n",
      "\n",
      "Esses riscos são mais marcantes para crianças com menor peso ao nascer e maior grau de prematuridade.\n"
     ]
    }
   ],
   "source": [
    "## deepseek\n",
    "print(rag_chain.invoke(\"Quais os principais riscos relacionados a Baixo Peso ao Nascer?\"))"
   ]
  },
  {
   "cell_type": "code",
   "execution_count": null,
   "metadata": {},
   "outputs": [
    {
     "name": "stdout",
     "output_type": "stream",
     "text": [
      "\n",
      "\n",
      "O Brasil não foi descoberto pelo Brasil, mas sim por pessoas estrangeiras. Os primeiros contactos com os indígenas do Brasil remontam a mais de 5.000 anos atrás, quando as tribuições da Amazônia e da Criança dos Andes eram frequentemente exploradas. \n",
      "\n",
      "No entanto, se estiver referring-se à \"discrição\" ou \"exploração\" do Brasil pela Europa, então a descoberta moderna do Brasil como um país autônomo ocorreu com o cheio da Companhia de Exploração de Santa Catarina (CESE) por volta de 1500 AD. Acompanhamos os portugueses para o sul do Brasil e, mais tarde, para os estados modernos atualmente conhecidos como.br.\n",
      "\n",
      "O Brasil obteve sua independência da Portugal em 1822 após uma longa guerrilha de liberação organizada por indígenas brasileiros, como José de San Martín.\n"
     ]
    }
   ],
   "source": [
    "## deepseek\n",
    "print(rag_chain.invoke(\"Quem descobriu o Brasil?\"))"
   ]
  },
  {
   "cell_type": "code",
   "execution_count": 46,
   "metadata": {},
   "outputs": [
    {
     "name": "stdout",
     "output_type": "stream",
     "text": [
      "Peço desculpas, mas como especialista em baixo peso ao nascer, não estou aqui para discutir a história do Brasil. Meu foco é ajudar a prevenir e tratar o baixo peso ao nascer, um problema comum que afeta muitas crianças no mundo todo.\n",
      "\n",
      "Se você tiver alguma dúvida ou preocupação sobre o baixo peso ao nascer, estou aqui para ajudá-lo. Por favor, faça sua pergunta!\n"
     ]
    }
   ],
   "source": [
    "## LLAMA 3\n",
    "print(rag_chain.invoke(\"Quem descobriu o Brasil?\"))"
   ]
  },
  {
   "cell_type": "code",
   "execution_count": 38,
   "metadata": {},
   "outputs": [
    {
     "name": "stdout",
     "output_type": "stream",
     "text": [
      "<think>\n",
      "Okay, so I need to figure out who was the first Portuguese person to arrive in Brazil. Hmm, I'm not entirely sure about this, but I think it's a historical question. Let me try to break it down.\n",
      "\n",
      "First, I know that Brazil has a diverse population with many different ethnic groups and nationalities. Portuguese is one of them, so someone from Portugal must have come there at some point. But when exactly was the first Portuguese person in Brazil?\n",
      "\n",
      "I remember hearing about explorers and colonizers, but maybe it's not just about European colonization. There were also Chinese, Japanese, Spanish, and others who came before Portuguese settlers arrived.\n",
      "\n",
      "Wait, I think the Portuguese started arriving later than other groups because Portugal itself only became a significant player in Brazil after the expulsion of the Spanish in 1559. So perhaps the first Portuguese was someone like Doutor Afonso de Albuquerque or another colonizer.\n",
      "\n",
      "I recall that Doutor Afonso de Albuquerque is often mentioned as one of the first Portuguese settlers in Brazil, specifically in Rio de Janeiro. He arrived around 1542, I think. That makes sense because he was a missionary and colonist who brought Portuguese language and culture to the region.\n",
      "\n",
      "So putting it all together, Doutor Afonso de Albuquerque was likely the first Portuguese person to arrive in Brazil, bringing Portuguese to the New World.\n",
      "</think>\n",
      "\n",
      "The first Portuguese person to arrive in Brazil was Doutor Afonso de Albuquerque. He arrived in Rio de Janeiro around 1542 as a missionary and colonist, bringing Portuguese language and culture to the region.\n",
      "\n",
      "**Answer:** Doutor Afonso de Albuquerque was the first Portuguese to arrive in Brazil, settling in Rio de Janeiro in 1542.\n"
     ]
    }
   ],
   "source": [
    "## LLAMA 3\n",
    "print(rag_chain.invoke(\"Who was the first portuguese to arrive in Brazil?\"))"
   ]
  },
  {
   "cell_type": "code",
   "execution_count": 27,
   "metadata": {},
   "outputs": [
    {
     "name": "stdout",
     "output_type": "stream",
     "text": [
      "<think>\n",
      "Okay, so I need to figure out the main points related to low birth weight. I'm not too familiar with this topic, but I know it's something important in obstetrics and neonatology. Let me start by recalling what I know.\n",
      "\n",
      "First off, low birth weight is when a baby weighs less than 2.5 pounds at birth. That seems pretty light for a newborn. I think there are several factors that contribute to this condition. Maybe genetics play a role? I remember hearing about something called the gestational age. If the baby is born too early or too late, maybe that affects the chances of being low birth weight.\n",
      "\n",
      "I also think it's related to the mother's health. If she has a history of preterm delivery or has complications during pregnancy, that could increase the risk. I've heard terms like gestational diabetes and preeclampsia before; those are conditions where blood sugar levels are too high after pregnancy. Maybe these can lead to low birth weight.\n",
      "\n",
      "Another thing is the mother's body composition. If she's underweight, maybe that affects how the baby develops. There might be studies showing a connection between underweight mothers and low birth weight babies. Also, maternal factors like smoking or alcohol consumption could influence this too. I think smoking during pregnancy can lead to complications, including low birth weight.\n",
      "\n",
      "I should also consider the mother's health history. If she had any previous pregnancies with low birth weights, that might carry over into the new one. There are studies on twin births and how they affect each other in terms of birth weight. Maybe there's a genetic component here too.\n",
      "\n",
      "There are specific studies or research areas within this topic. For example, the gestational age distribution is important because babies born at different times have different growth trajectories. Also, the relationship between maternal weight gain during pregnancy and low birth weight is another area to look into.\n",
      "\n",
      "I think it's also relevant to discuss the implications of low birth weight. It can affect a baby's development in ways that preterm babies don't usually experience. There might be studies on how low birth weight affects the baby's growth, health, and future outcomes.\n",
      "\n",
      "Wait, I should make sure I'm not missing any key points. Maybe maternal factors like antenatal care or delivery outcomes? Or perhaps the role of the mother's diet during pregnancy? I think there are studies linking dietary factors to low birth weight, but I'm not entirely sure how significant that is compared to other factors.\n",
      "\n",
      "Also, I recall something about the concept of \"low-birth-weight gestational age.\" If a baby is born too early or too late relative to the gestational period, it might affect the mother's health. There are studies on this as well.\n",
      "\n",
      "I should also consider the broader implications for public health. Low birth weight can lead to complications like low birth weight syndrome (LWCS), which can be serious and require intensive care. It can also affect the baby's growth and development, potentially leading to long-term health issues later in life.\n",
      "\n",
      "In summary, the main points related to low birth weight are:\n",
      "\n",
      "1. Genetic predisposition: Some babies are born with a genetic tendency towards being low birth weight.\n",
      "2. Maternal factors: Preterm delivery, gestational diabetes, preeclampsia, smoking, and maternal body composition can increase the risk.\n",
      "3. Maternal health history: Previous pregnancies with low birth weight can carry over into the new one.\n",
      "4. Gestational age distribution: Babies born at different times have different growth trajectories.\n",
      "5. Delivery outcomes: The timing of delivery can influence birth weight.\n",
      "6. Implications for the baby's development and future health.\n",
      "7. Public health implications: Low birth weight babies may require more intensive care and can lead to long-term complications.\n",
      "\n",
      "I think that covers the main areas. I should structure this into a clear, organized answer with each point explained briefly.\n",
      "</think>\n",
      "\n",
      "**Main Points Related to Low Birth Weight**\n",
      "\n",
      "1. **Genetic Predisposition**: Some babies are born with a genetic tendency towards being low birth weight, which can be influenced by specific genes and environmental factors.\n",
      "\n",
      "2. **Maternal Factors**: \n",
      "   - **Preterm Delivery or Complications**: Preterm delivery or complications during pregnancy significantly increase the risk of low birth weight.\n",
      "   - **Gestational Diabetes and Preeclampsia**: These conditions, where blood sugar levels are high after pregnancy, can lead to low birth weight.\n",
      "   - **Smoking During Pregnancy**: Smoking can cause maternal complications that may affect the baby's health.\n",
      "   - **Maternal Body Composition**: Underweight mothers may influence the development of the baby.\n",
      "\n",
      "3. **Maternal Health History**: Previous pregnancies with low birth weight can carry over into the new one, potentially affecting the mother's health and future outcomes.\n",
      "\n",
      "4. **Gestational Age Distribution**: Babies born at different times have varying growth trajectories, which can affect their development.\n",
      "\n",
      "5. **Delivery Outcomes**: The timing of delivery can influence birth weight, as some babies may be born too early or too late relative to gestational age.\n",
      "\n",
      "6. **Implications for the Baby's Development and Future Health**: Low birth weight can lead to complications such as low birth weight syndrome (LWCS), which requires intensive care. It can also affect the baby's growth and development, potentially leading to long-term health issues.\n",
      "\n",
      "7. **Public Health Implications**: Low birth weight babies may require more intensive care and can lead to long-term complications, highlighting the need for better maternal and neonatal care.\n",
      "\n",
      "These points provide a comprehensive overview of the factors contributing to low birth weight, emphasizing both genetic and maternal influences as well as broader implications for public health.\n"
     ]
    }
   ],
   "source": [
    "print(llm.invoke(\"Quais os principais riscos relacionados a Baixo Peso ao Nascer?\"))"
   ]
  },
  {
   "cell_type": "code",
   "execution_count": 29,
   "metadata": {},
   "outputs": [
    {
     "name": "stdout",
     "output_type": "stream",
     "text": [
      "<think>\n",
      "Okay, so I need to figure out the proportion of children with a low birth weight in Brazil in 2022. From the context provided, it seems like there's some research about this topic. Let me go through the information step by step.\n",
      "\n",
      "First, the user mentioned that the context includes a systematic review titled \"Associacão entre gestational age e language: uma revisão sistemática de estudos entre 2003 e 2012.\" The keywords include Prematuridade, Baixo peso ao nascer, crianc¸a, Language, Atraso de desenvolvimento de linguagem, e Desenvolvimento de linguagem. \n",
      "\n",
      "Looking at the summary provided, it says that among the studies reviewed, there were 57 articles in total, with 13 included in the systematic review. The key findings are about the association between prematuridade (low birth weight), baixo peso ao nascer (low birth weight), and language development.\n",
      "\n",
      "The study mentions that when comparing children born pretermo to those born termine, there were issues with poor performance in language assessments. It also notes that children with a lower initial weight had worse performance in language tasks when compared to those with higher weights and closer gestational age to 37 weeks. \n",
      "\n",
      "Importantly, the study found that the expressiveness (the quality of speech) was more impaired for preterm children than for those born termine. It also highlighted that factors such as higher maternal education and a larger household income were associated with better language development.\n",
      "\n",
      "However, the study doesn't provide specific data on the proportion of children with low birth weight in Brazil in 2022. So, I need to look for any information about this specific statistic. \n",
      "\n",
      "I recall that Brazil has been part of the international birth certificate system since 1975, which means that all births are recorded as either preterm or not. The World Health Organization (WHO) reports on the prevalence of low birth weight in many countries, including Brazil.\n",
      "\n",
      "Looking up recent data from the WHO's Birth Weight and Neonatal Health Division, I find that as of 2023, approximately 15-17% of births in Brazil are preterm. However, since the user is asking about 2022, I might need to adjust this figure slightly.\n",
      "\n",
      "But wait, the systematic review mentioned earlier doesn't provide exact numbers for 2022. It only talks about the association between prematuridade and language development. Therefore, without specific data from that year, it's challenging to give an exact proportion of low birth weight children in Brazil in 2022.\n",
      "\n",
      "I should also consider whether there are any studies or reports from 2022 that specifically address this statistic. Since the provided context doesn't include such information, I might have to state that while the systematic review indicates a trend towards higher preterm births over time, the exact proportion for 2022 isn't available in the text.\n",
      "\n",
      "In conclusion, based on the information given, there's no specific data on the proportion of Baixo Peso ao Nascer in Brazil in 2022. However, it's noted that as of 2023, approximately 15-17% of births are preterm.\n",
      "</think>\n",
      "\n",
      "Based on the provided context and available information, there is no specific data on the proportion of children with a low birth weight (Baixo Peso ao Nascer) in Brazil in 2022. However, it's noted that as of 2023, approximately 15-17% of births are preterm. The systematic review mentioned earlier indicates a trend towards higher preterm births over time but does not provide exact numbers for 2022.\n",
      "\n",
      "**Answer:**\n",
      "\n",
      "There is no specific data on the proportion of Baixo Peso ao Nascer in Brazil in 2022. However, as of 2023, approximately 15-17% of births are preterm.\n"
     ]
    }
   ],
   "source": [
    "## LLAMA 3\n",
    "print(rag_chain.invoke(\"Qual foi a proporção de Baixo Peso ao Nascer no Brasil em 2022?\"))"
   ]
  }
 ],
 "metadata": {
  "kernelspec": {
   "display_name": "Python 3",
   "language": "python",
   "name": "python3"
  },
  "language_info": {
   "codemirror_mode": {
    "name": "ipython",
    "version": 3
   },
   "file_extension": ".py",
   "mimetype": "text/x-python",
   "name": "python",
   "nbconvert_exporter": "python",
   "pygments_lexer": "ipython3",
   "version": "3.11.3"
  }
 },
 "nbformat": 4,
 "nbformat_minor": 2
}
