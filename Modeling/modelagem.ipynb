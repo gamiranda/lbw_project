{
 "cells": [
  {
   "cell_type": "code",
   "execution_count": 1,
   "metadata": {},
   "outputs": [],
   "source": [
    "import numpy as np \n",
    "import pandas as pd \n",
    "\n",
    "import warnings\n",
    "warnings.filterwarnings(\"ignore\")"
   ]
  },
  {
   "cell_type": "code",
   "execution_count": 2,
   "metadata": {},
   "outputs": [],
   "source": [
    "from sklearn.metrics import precision_score, recall_score, accuracy_score, confusion_matrix, classification_report\n",
    "from sklearn.model_selection import train_test_split\n",
    "from sklearn.compose import ColumnTransformer\n",
    "from sklearn.pipeline import Pipeline\n",
    "from sklearn.impute import SimpleImputer\n",
    "from sklearn.preprocessing import OneHotEncoder"
   ]
  },
  {
   "cell_type": "code",
   "execution_count": 3,
   "metadata": {},
   "outputs": [],
   "source": [
    "dt22 = pd.read_csv(\"D:/Users/User/Desktop/PC/Faculdade/Aprendizado de Máquinas - Mestrado/DNOPEN22.csv\", sep = \";\")\n",
    "dt23 = pd.read_csv(\"D:/Users/User/Desktop/PC/Faculdade/Aprendizado de Máquinas - Mestrado/DNOPEN23.csv\", sep = \";\")\n",
    "\n",
    "dt22aux = dt22[[\"ESTCIVMAE\"\n",
    "             ,\"ESCMAE\"\n",
    "             ,\"RACACORMAE\"\n",
    "             ,\"QTDFILVIVO\" \n",
    "             ,\"QTDFILMORT\" \n",
    "             ,\"QTDGESTANT\" \n",
    "             ,\"QTDPARTNOR\"\n",
    "             ,\"QTDPARTCES\" \n",
    "             ,\"IDADEPAI\"\n",
    "             ,\"IDADEMAE\"\n",
    "             ,\"GRAVIDEZ\"  \n",
    "             ,\"PESO\"]]\n",
    "\n",
    "dt23aux = dt23[[\"ESTCIVMAE\"\n",
    "             ,\"ESCMAE\"\n",
    "             ,\"RACACORMAE\"\n",
    "             ,\"QTDFILVIVO\" \n",
    "             ,\"QTDFILMORT\" \n",
    "             ,\"QTDGESTANT\" \n",
    "             ,\"QTDPARTNOR\"\n",
    "             ,\"QTDPARTCES\" \n",
    "             ,\"IDADEPAI\"\n",
    "             ,\"IDADEMAE\"\n",
    "             ,\"GRAVIDEZ\" \n",
    "             ,\"PESO\"]]"
   ]
  },
  {
   "cell_type": "code",
   "execution_count": 4,
   "metadata": {},
   "outputs": [
    {
     "data": {
      "text/html": [
       "<div>\n",
       "<style scoped>\n",
       "    .dataframe tbody tr th:only-of-type {\n",
       "        vertical-align: middle;\n",
       "    }\n",
       "\n",
       "    .dataframe tbody tr th {\n",
       "        vertical-align: top;\n",
       "    }\n",
       "\n",
       "    .dataframe thead th {\n",
       "        text-align: right;\n",
       "    }\n",
       "</style>\n",
       "<table border=\"1\" class=\"dataframe\">\n",
       "  <thead>\n",
       "    <tr style=\"text-align: right;\">\n",
       "      <th></th>\n",
       "      <th>ESTCIVMAE</th>\n",
       "      <th>ESCMAE</th>\n",
       "      <th>RACACORMAE</th>\n",
       "      <th>QTDFILVIVO</th>\n",
       "      <th>QTDFILMORT</th>\n",
       "      <th>QTDGESTANT</th>\n",
       "      <th>QTDPARTNOR</th>\n",
       "      <th>QTDPARTCES</th>\n",
       "      <th>IDADEPAI</th>\n",
       "      <th>IDADEMAE</th>\n",
       "      <th>GRAVIDEZ</th>\n",
       "      <th>PESO</th>\n",
       "    </tr>\n",
       "  </thead>\n",
       "  <tbody>\n",
       "    <tr>\n",
       "      <th>0</th>\n",
       "      <td>1.0</td>\n",
       "      <td>5.0</td>\n",
       "      <td>1.0</td>\n",
       "      <td>2.0</td>\n",
       "      <td>1.0</td>\n",
       "      <td>3.0</td>\n",
       "      <td>2.0</td>\n",
       "      <td>0.0</td>\n",
       "      <td>20.0</td>\n",
       "      <td>40.0</td>\n",
       "      <td>1.0</td>\n",
       "      <td>3412.0</td>\n",
       "    </tr>\n",
       "    <tr>\n",
       "      <th>1</th>\n",
       "      <td>2.0</td>\n",
       "      <td>4.0</td>\n",
       "      <td>1.0</td>\n",
       "      <td>0.0</td>\n",
       "      <td>0.0</td>\n",
       "      <td>0.0</td>\n",
       "      <td>0.0</td>\n",
       "      <td>0.0</td>\n",
       "      <td>28.0</td>\n",
       "      <td>32.0</td>\n",
       "      <td>1.0</td>\n",
       "      <td>3594.0</td>\n",
       "    </tr>\n",
       "    <tr>\n",
       "      <th>2</th>\n",
       "      <td>5.0</td>\n",
       "      <td>3.0</td>\n",
       "      <td>NaN</td>\n",
       "      <td>1.0</td>\n",
       "      <td>1.0</td>\n",
       "      <td>2.0</td>\n",
       "      <td>0.0</td>\n",
       "      <td>1.0</td>\n",
       "      <td>37.0</td>\n",
       "      <td>26.0</td>\n",
       "      <td>1.0</td>\n",
       "      <td>3470.0</td>\n",
       "    </tr>\n",
       "    <tr>\n",
       "      <th>3</th>\n",
       "      <td>2.0</td>\n",
       "      <td>5.0</td>\n",
       "      <td>4.0</td>\n",
       "      <td>1.0</td>\n",
       "      <td>0.0</td>\n",
       "      <td>1.0</td>\n",
       "      <td>0.0</td>\n",
       "      <td>1.0</td>\n",
       "      <td>40.0</td>\n",
       "      <td>31.0</td>\n",
       "      <td>1.0</td>\n",
       "      <td>3260.0</td>\n",
       "    </tr>\n",
       "    <tr>\n",
       "      <th>4</th>\n",
       "      <td>5.0</td>\n",
       "      <td>5.0</td>\n",
       "      <td>NaN</td>\n",
       "      <td>0.0</td>\n",
       "      <td>0.0</td>\n",
       "      <td>0.0</td>\n",
       "      <td>0.0</td>\n",
       "      <td>0.0</td>\n",
       "      <td>37.0</td>\n",
       "      <td>27.0</td>\n",
       "      <td>1.0</td>\n",
       "      <td>3232.0</td>\n",
       "    </tr>\n",
       "  </tbody>\n",
       "</table>\n",
       "</div>"
      ],
      "text/plain": [
       "   ESTCIVMAE  ESCMAE  RACACORMAE  QTDFILVIVO  QTDFILMORT  QTDGESTANT   \n",
       "0        1.0     5.0         1.0         2.0         1.0         3.0  \\\n",
       "1        2.0     4.0         1.0         0.0         0.0         0.0   \n",
       "2        5.0     3.0         NaN         1.0         1.0         2.0   \n",
       "3        2.0     5.0         4.0         1.0         0.0         1.0   \n",
       "4        5.0     5.0         NaN         0.0         0.0         0.0   \n",
       "\n",
       "   QTDPARTNOR  QTDPARTCES  IDADEPAI  IDADEMAE  GRAVIDEZ    PESO  \n",
       "0         2.0         0.0      20.0      40.0       1.0  3412.0  \n",
       "1         0.0         0.0      28.0      32.0       1.0  3594.0  \n",
       "2         0.0         1.0      37.0      26.0       1.0  3470.0  \n",
       "3         0.0         1.0      40.0      31.0       1.0  3260.0  \n",
       "4         0.0         0.0      37.0      27.0       1.0  3232.0  "
      ]
     },
     "execution_count": 4,
     "metadata": {},
     "output_type": "execute_result"
    }
   ],
   "source": [
    "dt_selected = pd.concat([dt22aux, dt23aux], ignore_index=True)\n",
    "dt_selected.head()"
   ]
  },
  {
   "cell_type": "code",
   "execution_count": 47,
   "metadata": {},
   "outputs": [
    {
     "name": "stdout",
     "output_type": "stream",
     "text": [
      "Shape:  (5093975, 12) \n",
      "\n",
      "<class 'pandas.core.frame.DataFrame'>\n",
      "RangeIndex: 5093975 entries, 0 to 5093974\n",
      "Data columns (total 12 columns):\n",
      " #   Column      Non-Null Count    Dtype  \n",
      "---  ------      --------------    -----  \n",
      " 0   ESTCIVMAE   5072323 non-null  float64\n",
      " 1   ESCMAE      5070814 non-null  float64\n",
      " 2   RACACORMAE  4969689 non-null  float64\n",
      " 3   QTDFILVIVO  5014418 non-null  float64\n",
      " 4   QTDFILMORT  4971366 non-null  float64\n",
      " 5   QTDGESTANT  5001876 non-null  float64\n",
      " 6   QTDPARTNOR  4972839 non-null  float64\n",
      " 7   QTDPARTCES  4960475 non-null  float64\n",
      " 8   IDADEPAI    1752425 non-null  float64\n",
      " 9   IDADEMAE    5093928 non-null  float64\n",
      " 10  GRAVIDEZ    5090266 non-null  float64\n",
      " 11  PESO        5093355 non-null  float64\n",
      "dtypes: float64(12)\n",
      "memory usage: 466.4 MB\n"
     ]
    }
   ],
   "source": [
    "print(\"Shape: \", dt_selected.shape, \"\\n\")\n",
    "\n",
    "dt_selected.info(show_counts = True)"
   ]
  },
  {
   "cell_type": "code",
   "execution_count": 5,
   "metadata": {},
   "outputs": [],
   "source": [
    "### Adjusting data type ###\n",
    "dt_selected = dt_selected.astype({'ESTCIVMAE': 'float64',\n",
    "                                'ESCMAE': 'float64',\n",
    "                                'GRAVIDEZ': 'float64',   \n",
    "                                'RACACORMAE': 'float64',\n",
    "                                'QTDPARTNOR': 'float64',\n",
    "                                'QTDPARTCES': 'float64',\n",
    "                                'QTDFILMORT': 'float64',\n",
    "                                'QTDFILVIVO': 'float64',\n",
    "                                 'IDADEPAI':  'float64',\n",
    "                                 'IDADEMAE':  'float64',\n",
    "                                 'PESO':  'float64'\n",
    "                                })"
   ]
  },
  {
   "cell_type": "code",
   "execution_count": 6,
   "metadata": {},
   "outputs": [
    {
     "name": "stdout",
     "output_type": "stream",
     "text": [
      "Shape:  (5093355, 13)\n",
      "Proporção de Baixo Peso ao Nascer: 9.47%\n"
     ]
    }
   ],
   "source": [
    "### Filtering just the sample with PESO fill ###\n",
    "dt_selected = dt_selected[dt_selected['PESO'] > 0].reset_index(drop = True)\n",
    "dt_selected['PESO_BAIXO'] = np.where(dt_selected['PESO'] < 2500, 1, 0)\n",
    "\n",
    "print(\"Shape: \", dt_selected.shape)\n",
    "\n",
    "prop = 100 * dt_selected['PESO_BAIXO'].value_counts()/dt_selected.shape[0]\n",
    "\n",
    "print(f\"Proporção de Baixo Peso ao Nascer: {round(prop[1], 2)}%\")"
   ]
  },
  {
   "cell_type": "code",
   "execution_count": 7,
   "metadata": {},
   "outputs": [],
   "source": [
    "from sklearn.metrics import precision_score, recall_score, accuracy_score, confusion_matrix, classification_report, f1_score\n",
    "from sklearn.model_selection import train_test_split\n",
    "from sklearn.compose import ColumnTransformer\n",
    "from sklearn.pipeline import Pipeline\n",
    "from sklearn.impute import SimpleImputer\n",
    "from sklearn.preprocessing import OneHotEncoder, FunctionTransformer\n",
    "\n",
    "from catboost import CatBoostClassifier\n",
    "from lightgbm import LGBMClassifier\n",
    "from sklearn.naive_bayes import MultinomialNB\n",
    "from sklearn.ensemble import RandomForestClassifier\n",
    "\n",
    "\n",
    "X = dt_selected[['IDADEMAE', 'IDADEPAI', 'ESTCIVMAE', 'ESCMAE', 'QTDFILVIVO', 'QTDFILMORT'\n",
    "                ,'QTDPARTNOR', 'QTDPARTCES', 'QTDGESTANT', 'GRAVIDEZ', 'RACACORMAE']]\n",
    "y = dt_selected['PESO_BAIXO']\n",
    "\n",
    "\n",
    "X_train, X_val, y_train, y_val = train_test_split(X,y, train_size=0.8, test_size=0.2, random_state=0)"
   ]
  },
  {
   "cell_type": "code",
   "execution_count": 8,
   "metadata": {},
   "outputs": [],
   "source": [
    "def columnTrunc(data, vars):\n",
    "    for var in vars:\n",
    "        data[var] = np.where(data[var] > 10.0, 10.0, data[var])\n",
    "\n",
    "    return data"
   ]
  },
  {
   "cell_type": "code",
   "execution_count": 9,
   "metadata": {},
   "outputs": [],
   "source": [
    "categorical_cols = X_train[[\"ESTCIVMAE\"\n",
    "                            ,\"ESCMAE\"\n",
    "                            ,\"RACACORMAE\"\n",
    "                            ,\"QTDFILVIVO\" \n",
    "                            ,\"QTDFILMORT\" \n",
    "                            ,\"QTDGESTANT\" \n",
    "                            ,\"QTDPARTNOR\"\n",
    "                            ,\"QTDPARTCES\" \n",
    "                            ,\"GRAVIDEZ\"  \n",
    "                           ]].columns.tolist()\n",
    "\n",
    "numerical_cols = X_train[[\"IDADEPAI\"\n",
    "                          ,\"IDADEMAE\"]].columns.tolist()\n",
    "             \n",
    "numerical_transformer = Pipeline(steps = [\n",
    "    ('imputer', SimpleImputer(strategy='mean'))\n",
    "    ])\n",
    "\n",
    "categorical_transformer = Pipeline(steps=[\n",
    "    ('truncation', FunctionTransformer(columnTrunc, \n",
    "                                       kw_args={'vars': [\"QTDFILVIVO\" \n",
    "                                        ,\"QTDFILMORT\" \n",
    "                                        ,\"QTDGESTANT\" \n",
    "                                        ,\"QTDPARTNOR\"\n",
    "                                        ,\"QTDPARTCES\" ]},\n",
    "                                        feature_names_out = 'one-to-one')),\n",
    "    ('imputer', SimpleImputer(strategy='most_frequent')),\n",
    "    ('ohe', OneHotEncoder(handle_unknown='infrequent_if_exist',\n",
    "                          sparse_output=False))\n",
    "])\n",
    "\n",
    "preprocessor = ColumnTransformer(transformers=[('num', numerical_transformer, numerical_cols),\n",
    "                                               ('cat', categorical_transformer, categorical_cols)\n",
    "                                               ])\n",
    "\n"
   ]
  },
  {
   "cell_type": "code",
   "execution_count": 53,
   "metadata": {},
   "outputs": [
    {
     "name": "stdout",
     "output_type": "stream",
     "text": [
      "LGBM\n",
      "              precision    recall  f1-score   support\n",
      "\n",
      "           0       0.92      0.99      0.95    922300\n",
      "           1       0.63      0.15      0.24     96371\n",
      "\n",
      "    accuracy                           0.91   1018671\n",
      "   macro avg       0.78      0.57      0.60   1018671\n",
      "weighted avg       0.89      0.91      0.89   1018671\n",
      "\n",
      "[[913870   8430]\n",
      " [ 81874  14497]]\n",
      "CatBoost\n",
      "              precision    recall  f1-score   support\n",
      "\n",
      "           0       0.92      0.99      0.95    922300\n",
      "           1       0.64      0.14      0.23     96371\n",
      "\n",
      "    accuracy                           0.91   1018671\n",
      "   macro avg       0.78      0.57      0.59   1018671\n",
      "weighted avg       0.89      0.91      0.88   1018671\n",
      "\n",
      "[[914483   7817]\n",
      " [ 82584  13787]]\n",
      "NB\n",
      "              precision    recall  f1-score   support\n",
      "\n",
      "           0       0.92      0.99      0.95    922300\n",
      "           1       0.64      0.14      0.23     96371\n",
      "\n",
      "    accuracy                           0.91   1018671\n",
      "   macro avg       0.78      0.56      0.59   1018671\n",
      "weighted avg       0.89      0.91      0.88   1018671\n",
      "\n",
      "[[914897   7403]\n",
      " [ 83178  13193]]\n",
      "RF\n",
      "              precision    recall  f1-score   support\n",
      "\n",
      "           0       0.92      0.99      0.95    922300\n",
      "           1       0.56      0.13      0.21     96371\n",
      "\n",
      "    accuracy                           0.91   1018671\n",
      "   macro avg       0.74      0.56      0.58   1018671\n",
      "weighted avg       0.88      0.91      0.88   1018671\n",
      "\n",
      "[[912427   9873]\n",
      " [ 83950  12421]]\n"
     ]
    }
   ],
   "source": [
    "models = {\n",
    "    'LGBM':LGBMClassifier(verbose = -1),\n",
    "    'CatBoost': CatBoostClassifier(verbose = False),\n",
    "    #'XGBoost': XGBClassifier(verbose = 0),\n",
    "    'NB': MultinomialNB(),\n",
    "    'RF': RandomForestClassifier()\n",
    "}\n",
    "\n",
    "for model_name, model in models.items():\n",
    "    print(model_name)\n",
    "    pipe = Pipeline(steps=[(\"preprocessor\", preprocessor), \n",
    "                           (\"regressor\", model)])\n",
    "    pred=pipe.fit(X_train, y_train).predict(X_val)\n",
    "    \n",
    "    print(classification_report(y_val, pred))\n",
    "    print(confusion_matrix(y_val, pred))"
   ]
  },
  {
   "cell_type": "code",
   "execution_count": 10,
   "metadata": {},
   "outputs": [],
   "source": [
    "def ThresholdOptimizer(y_pred, y_true):\n",
    "    \n",
    "    thresholds = np.linspace(min(y_pred), max(y_pred), num=100)\n",
    "\n",
    "    f1s = [f1_score((y_pred > t).astype(int), y_true) for t in thresholds]\n",
    "\n",
    "    # Find the best threshold\n",
    "    best_idx = np.argmax(f1s)\n",
    "    best_threshold = thresholds[best_idx]\n",
    "    best_f1 = f1s[best_idx]\n",
    "\n",
    "    print(\"Best Threshold:\", round(best_threshold, 2))\n",
    "    print(\"Best F1-Score:\", round(best_f1, 2))\n",
    "    print(\" \")\n",
    "    print(classification_report(y_true = y_true, \n",
    "                                y_pred = (y_pred > best_threshold).astype(int)))\n",
    "\n",
    "    return best_threshold \n"
   ]
  },
  {
   "cell_type": "code",
   "execution_count": 11,
   "metadata": {},
   "outputs": [],
   "source": [
    "pipe = Pipeline(steps=[(\"preprocessor\", preprocessor), \n",
    "                       (\"classifier\", LGBMClassifier(verbose = -1))])\n",
    "                           \n",
    "y_pred_proba = pipe.fit(X_train, y_train).predict_proba(X_val)[:, 1]"
   ]
  },
  {
   "cell_type": "code",
   "execution_count": 22,
   "metadata": {},
   "outputs": [
    {
     "name": "stdout",
     "output_type": "stream",
     "text": [
      "Best Threshold: 0.12\n",
      "Best F1-Score: 0.26\n",
      " \n",
      "              precision    recall  f1-score   support\n",
      "\n",
      "           0       0.92      0.95      0.93    922300\n",
      "           1       0.31      0.22      0.26     96371\n",
      "\n",
      "    accuracy                           0.88   1018671\n",
      "   macro avg       0.61      0.58      0.60   1018671\n",
      "weighted avg       0.86      0.88      0.87   1018671\n",
      "\n",
      "[[875047  47253]\n",
      " [ 75265  21106]]\n"
     ]
    }
   ],
   "source": [
    "bt_o = ThresholdOptimizer(y_pred = y_pred_proba, \n",
    "                        y_true = y_val)\n",
    "\n",
    "print(confusion_matrix(y_val, np.where(y_pred_proba > bt_o, 1, 0)))                  "
   ]
  },
  {
   "cell_type": "markdown",
   "metadata": {},
   "source": [
    "Com a otimização de treshold o recall aumentou de 0.15 para 0.22. Ou seja, o modelo se tornou melhor em prever casos em que realmente se tratavam de baixo peso ao nascer"
   ]
  },
  {
   "cell_type": "markdown",
   "metadata": {},
   "source": [
    "### Testando técnicas de balanceamento"
   ]
  },
  {
   "cell_type": "code",
   "execution_count": 56,
   "metadata": {},
   "outputs": [
    {
     "name": "stdout",
     "output_type": "stream",
     "text": [
      "Best Threshold: 0.58\n",
      "Best F1-Score: 0.26\n",
      " \n",
      "              precision    recall  f1-score   support\n",
      "\n",
      "           0       0.92      0.96      0.94    922300\n",
      "           1       0.34      0.21      0.26     96371\n",
      "\n",
      "    accuracy                           0.89   1018671\n",
      "   macro avg       0.63      0.58      0.60   1018671\n",
      "weighted avg       0.87      0.89      0.87   1018671\n",
      "\n",
      "[[883430  38870]\n",
      " [ 76512  19859]]\n"
     ]
    }
   ],
   "source": [
    "from imblearn.under_sampling import RandomUnderSampler\n",
    "\n",
    "rus = RandomUnderSampler(random_state=0)\n",
    "X_resampled, y_resampled = rus.fit_resample(X_train, y_train)\n",
    "\n",
    "pipe = Pipeline(steps=[(\"preprocessor\", preprocessor), \n",
    "                       (\"classifier\", LGBMClassifier(verbose = -1))])\n",
    "                           \n",
    "y_pred_proba = pipe.fit(X_resampled, y_resampled).predict_proba(X_val)[:, 1]\n",
    "\n",
    "bt = ThresholdOptimizer(y_pred = y_pred_proba, \n",
    "                        y_true = y_val)   \n",
    "\n",
    "print(confusion_matrix(y_val, np.where(y_pred_proba > bt, 1, 0)))    "
   ]
  },
  {
   "cell_type": "code",
   "execution_count": 57,
   "metadata": {},
   "outputs": [
    {
     "name": "stdout",
     "output_type": "stream",
     "text": [
      "Best Threshold: 0.58\n",
      "Best F1-Score: 0.26\n",
      " \n",
      "              precision    recall  f1-score   support\n",
      "\n",
      "           0       0.92      0.96      0.94    922300\n",
      "           1       0.33      0.21      0.26     96371\n",
      "\n",
      "    accuracy                           0.89   1018671\n",
      "   macro avg       0.63      0.58      0.60   1018671\n",
      "weighted avg       0.86      0.89      0.87   1018671\n",
      "\n",
      "[[882115  40185]\n",
      " [ 76305  20066]]\n"
     ]
    }
   ],
   "source": [
    "from imblearn.over_sampling import RandomOverSampler\n",
    "\n",
    "ros = RandomOverSampler(random_state=0)\n",
    "X_resampled, y_resampled = ros.fit_resample(X_train, y_train)\n",
    "\n",
    "pipe = Pipeline(steps=[(\"preprocessor\", preprocessor), \n",
    "                       (\"classifier\", LGBMClassifier(verbose = -1))])\n",
    "                           \n",
    "y_pred_proba = pipe.fit(X_resampled, y_resampled).predict_proba(X_val)[:, 1]\n",
    "\n",
    "bt = ThresholdOptimizer(y_pred = y_pred_proba, \n",
    "                        y_true = y_val)   \n",
    "\n",
    "print(confusion_matrix(y_val, np.where(y_pred_proba > bt, 1, 0)))     "
   ]
  },
  {
   "cell_type": "code",
   "execution_count": 58,
   "metadata": {},
   "outputs": [
    {
     "name": "stdout",
     "output_type": "stream",
     "text": [
      "Best Threshold: 0.58\n",
      "Best F1-Score: 0.26\n",
      " \n",
      "              precision    recall  f1-score   support\n",
      "\n",
      "           0       0.92      0.96      0.94    922300\n",
      "           1       0.33      0.21      0.26     96371\n",
      "\n",
      "    accuracy                           0.89   1018671\n",
      "   macro avg       0.63      0.58      0.60   1018671\n",
      "weighted avg       0.86      0.89      0.87   1018671\n",
      "\n",
      "[[882115  40185]\n",
      " [ 76305  20066]]\n"
     ]
    }
   ],
   "source": [
    "from imblearn.over_sampling import SMOTE\n",
    "\n",
    "smote = RandomOverSampler(random_state=0)\n",
    "X_resampled, y_resampled = smote.fit_resample(X_train, y_train)\n",
    "\n",
    "pipe = Pipeline(steps=[(\"preprocessor\", preprocessor), \n",
    "                       (\"classifier\", LGBMClassifier(verbose = -1))])\n",
    "                           \n",
    "y_pred_proba = pipe.fit(X_resampled, y_resampled).predict_proba(X_val)[:, 1]\n",
    "\n",
    "bt = ThresholdOptimizer(y_pred = y_pred_proba, \n",
    "                        y_true = y_val)   \n",
    "\n",
    "print(confusion_matrix(y_val, np.where(y_pred_proba > bt, 1, 0)))       "
   ]
  },
  {
   "cell_type": "code",
   "execution_count": 59,
   "metadata": {},
   "outputs": [
    {
     "name": "stdout",
     "output_type": "stream",
     "text": [
      "Best Threshold: 0.58\n",
      "Best F1-Score: 0.26\n",
      " \n",
      "              precision    recall  f1-score   support\n",
      "\n",
      "           0       0.92      0.95      0.94    922300\n",
      "           1       0.32      0.21      0.26     96371\n",
      "\n",
      "    accuracy                           0.88   1018671\n",
      "   macro avg       0.62      0.58      0.60   1018671\n",
      "weighted avg       0.86      0.88      0.87   1018671\n",
      "\n",
      "[[878547  43753]\n",
      " [ 75761  20610]]\n"
     ]
    }
   ],
   "source": [
    "pipe = Pipeline(steps=[(\"preprocessor\", preprocessor), \n",
    "                       (\"classifier\", LGBMClassifier(verbose = -1, class_weight='balanced'))])\n",
    "                           \n",
    "y_pred_proba = pipe.fit(X_train, y_train).predict_proba(X_val)[:, 1]\n",
    "\n",
    "bt = ThresholdOptimizer(y_pred = y_pred_proba, \n",
    "                        y_true = y_val)   \n",
    "\n",
    "print(confusion_matrix(y_val, np.where(y_pred_proba > bt, 1, 0)))     "
   ]
  },
  {
   "cell_type": "markdown",
   "metadata": {},
   "source": [
    "#### As técnicas não apresentaram melhora no resultado do modelo"
   ]
  },
  {
   "cell_type": "markdown",
   "metadata": {},
   "source": [
    "### Testando o efeito da calibração das probabilidades"
   ]
  },
  {
   "cell_type": "code",
   "execution_count": 60,
   "metadata": {},
   "outputs": [],
   "source": [
    "from sklearn.isotonic import IsotonicRegression\n",
    "from sklearn.calibration import calibration_curve\n",
    "from sklearn.metrics import brier_score_loss\n",
    "import matplotlib.pyplot as plt\n",
    "\n",
    "pipe = Pipeline(steps=[(\"preprocessor\", preprocessor), \n",
    "                       (\"classifier\", LGBMClassifier(verbose = -1))])\n",
    "\n",
    "y_prob = pipe.fit(X_train, y_train).predict_proba(X_val)[:, 1]"
   ]
  },
  {
   "cell_type": "code",
   "execution_count": 61,
   "metadata": {},
   "outputs": [
    {
     "name": "stdout",
     "output_type": "stream",
     "text": [
      "              precision    recall  f1-score   support\n",
      "\n",
      "           0       0.92      0.94      0.93    922300\n",
      "           1       0.29      0.23      0.26     96371\n",
      "\n",
      "    accuracy                           0.87   1018671\n",
      "   macro avg       0.61      0.59      0.59   1018671\n",
      "weighted avg       0.86      0.87      0.87   1018671\n",
      "\n",
      "[[867955  54345]\n",
      " [ 74213  22158]]\n"
     ]
    }
   ],
   "source": [
    "ir = IsotonicRegression(out_of_bounds='clip')\n",
    "y_prob_isotonic = ir.fit_transform(y_prob, y_val)\n",
    "\n",
    "print(classification_report(y_val, np.where(y_prob_isotonic > bt_o, 1, 0)))       \n",
    "\n",
    "print(confusion_matrix(y_val, np.where(y_prob_isotonic > bt_o, 1, 0)))       "
   ]
  },
  {
   "cell_type": "code",
   "execution_count": 62,
   "metadata": {},
   "outputs": [
    {
     "data": {
      "image/png": "[encoded data removed]",
      "text/plain": [
       "<Figure size 1000x600 with 1 Axes>"
      ]
     },
     "metadata": {},
     "output_type": "display_data"
    },
    {
     "name": "stdout",
     "output_type": "stream",
     "text": [
      "Brier score (raw): 0.0783\n",
      "Brier score (isotonic): 0.0783\n"
     ]
    }
   ],
   "source": [
    "brier_raw = brier_score_loss(y_val, y_prob)\n",
    "brier_isotonic = brier_score_loss(y_val, y_prob_isotonic)\n",
    "\n",
    "# Generate calibration curves before and after isotonic regression\n",
    "prob_true_raw, prob_pred_raw = calibration_curve(y_val, y_prob, n_bins=10)\n",
    "prob_true_iso, prob_pred_iso = calibration_curve(y_val, y_prob_isotonic, n_bins=10)\n",
    "\n",
    "# Plot the calibration curves\n",
    "plt.figure(figsize=(10, 6))\n",
    "plt.plot(prob_pred_raw, prob_true_raw, \"s-\", label=\"LGBM (raw probabilities)\")\n",
    "plt.plot(prob_pred_iso, prob_true_iso, \"s-\", label=\"Isotonic Regression (calibrated)\")\n",
    "plt.plot([0, 1], [0, 1], \"k:\", label=\"Perfectly calibrated\")\n",
    "\n",
    "plt.xlabel(\"Mean predicted probability\")\n",
    "plt.ylabel(\"Fraction of positives\")\n",
    "plt.title(\"Calibration curves (LGBM and Isotonic Regression)\")\n",
    "plt.legend()\n",
    "\n",
    "plt.show()\n",
    "\n",
    "print(f\"Brier score (raw): {brier_raw:.4f}\")\n",
    "print(f\"Brier score (isotonic): {brier_isotonic:.4f}\")"
   ]
  },
  {
   "cell_type": "code",
   "execution_count": 63,
   "metadata": {},
   "outputs": [
    {
     "name": "stdout",
     "output_type": "stream",
     "text": [
      "              precision    recall  f1-score   support\n",
      "\n",
      "           0       0.92      0.99      0.95    922300\n",
      "           1       0.57      0.16      0.25     96371\n",
      "\n",
      "    accuracy                           0.91   1018671\n",
      "   macro avg       0.74      0.57      0.60   1018671\n",
      "weighted avg       0.88      0.91      0.89   1018671\n",
      "\n",
      "[[910393  11907]\n",
      " [ 80896  15475]]\n"
     ]
    }
   ],
   "source": [
    "from sklearn.calibration import CalibratedClassifierCV\n",
    "\n",
    "platt = CalibratedClassifierCV(pipe, method = \"sigmoid\")\n",
    "\n",
    "y_prob_platt = platt.fit(X_train, y_train).predict_proba(X_val)[:, 1]\n",
    "\n",
    "print(classification_report(y_val, np.where(y_prob_platt > bt_o, 1, 0)))   \n",
    "\n",
    "print(confusion_matrix(y_val, np.where(y_prob_platt > bt_o, 1, 0)))      "
   ]
  },
  {
   "cell_type": "code",
   "execution_count": 64,
   "metadata": {},
   "outputs": [
    {
     "data": {
      "image/png": "[encoded data removed]",
      "text/plain": [
       "<Figure size 1000x600 with 1 Axes>"
      ]
     },
     "metadata": {},
     "output_type": "display_data"
    },
    {
     "name": "stdout",
     "output_type": "stream",
     "text": [
      "Brier score (raw): 0.0783\n",
      "Brier score (Platt): 0.0785\n"
     ]
    }
   ],
   "source": [
    "brier_raw = brier_score_loss(y_val, y_prob)\n",
    "brier_platt = brier_score_loss(y_val, y_prob_platt)\n",
    "\n",
    "# Generate calibration curves before and after isotonic regression\n",
    "prob_true_raw, prob_pred_raw = calibration_curve(y_val, y_prob, n_bins=10)\n",
    "prob_true_platt, prob_pred_platt = calibration_curve(y_val, y_prob_platt, n_bins=10)\n",
    "\n",
    "# Plot the calibration curves\n",
    "plt.figure(figsize=(10, 6))\n",
    "plt.plot(prob_pred_raw, prob_true_raw, \"s-\", label=\"LGBM (raw probabilities)\")\n",
    "plt.plot(prob_pred_platt, prob_true_platt, \"s-\", label=\"Platt (calibrated)\")\n",
    "plt.plot([0, 1], [0, 1], \"k:\", label=\"Perfectly calibrated\")\n",
    "\n",
    "plt.xlabel(\"Mean predicted probability\")\n",
    "plt.ylabel(\"Fraction of positives\")\n",
    "plt.title(\"Calibration curves (LGBM and Platt)\")\n",
    "plt.legend()\n",
    "\n",
    "plt.show()\n",
    "\n",
    "print(f\"Brier score (raw): {brier_raw:.4f}\")\n",
    "print(f\"Brier score (Platt): {brier_platt:.4f}\")"
   ]
  },
  {
   "cell_type": "code",
   "execution_count": 65,
   "metadata": {},
   "outputs": [
    {
     "name": "stdout",
     "output_type": "stream",
     "text": [
      "              precision    recall  f1-score   support\n",
      "\n",
      "           0       0.92      0.94      0.93    922300\n",
      "           1       0.29      0.23      0.26     96371\n",
      "\n",
      "    accuracy                           0.88   1018671\n",
      "   macro avg       0.61      0.58      0.59   1018671\n",
      "weighted avg       0.86      0.88      0.87   1018671\n",
      "\n",
      "[[869650  52650]\n",
      " [ 74549  21822]]\n"
     ]
    }
   ],
   "source": [
    "from venn_abers import VennAbersCalibrator\n",
    "\n",
    "model = LGBMClassifier(verbose = -1)\n",
    "\n",
    "### Aplicar o pipeline nos dados, transformar em pandas antes do fit\n",
    "\n",
    "va = VennAbersCalibrator(estimator=model, inductive=True, cal_size=0.2, random_state=0)\n",
    "\n",
    "va.fit(preprocessor.fit_transform(X_train), y_train)\n",
    "\n",
    "# Generate probabilities and class predictions on the test set\n",
    "y_prob_va = va.predict_proba(preprocessor.transform(X_val))[:, 1]\n",
    "\n",
    "print(classification_report(y_val, np.where(y_prob_va > bt_o, 1, 0)))   \n",
    "\n",
    "print(confusion_matrix(y_val, np.where(y_prob_va > bt_o, 1, 0)))     "
   ]
  },
  {
   "cell_type": "code",
   "execution_count": 66,
   "metadata": {},
   "outputs": [
    {
     "data": {
      "image/png": "[encoded data removed]",
      "text/plain": [
       "<Figure size 1000x600 with 1 Axes>"
      ]
     },
     "metadata": {},
     "output_type": "display_data"
    },
    {
     "name": "stdout",
     "output_type": "stream",
     "text": [
      "Brier score (raw): 0.0783\n",
      "Brier score (VennAbers): 0.0783\n"
     ]
    }
   ],
   "source": [
    "brier_raw = brier_score_loss(y_val, y_prob)\n",
    "brier_va = brier_score_loss(y_val, y_prob_va)\n",
    "\n",
    "# Generate calibration curves before and after isotonic regression\n",
    "prob_true_raw, prob_pred_raw = calibration_curve(y_val, y_prob, n_bins=10)\n",
    "prob_true_va, prob_pred_va = calibration_curve(y_val, y_prob_va, n_bins=10)\n",
    "\n",
    "# Plot the calibration curves\n",
    "plt.figure(figsize=(10, 6))\n",
    "plt.plot(prob_pred_raw, prob_true_raw, \"s-\", label=\"LGBM (raw probabilities)\")\n",
    "plt.plot(prob_pred_va, prob_true_va, \"s-\", label=\"VennAbers (calibrated)\")\n",
    "plt.plot([0, 1], [0, 1], \"k:\", label=\"Perfectly calibrated\")\n",
    "\n",
    "plt.xlabel(\"Mean predicted probability\")\n",
    "plt.ylabel(\"Fraction of positives\")\n",
    "plt.title(\"Calibration curves (LGBM and VennAbers)\")\n",
    "plt.legend()\n",
    "\n",
    "plt.show()\n",
    "\n",
    "print(f\"Brier score (raw): {brier_raw:.4f}\")\n",
    "print(f\"Brier score (VennAbers): {brier_va:.4f}\")"
   ]
  },
  {
   "cell_type": "markdown",
   "metadata": {},
   "source": [
    "#### O modelo já é suficientemente calibrado, sem necessidade de aplicar técnicas de calibração"
   ]
  },
  {
   "cell_type": "code",
   "execution_count": 67,
   "metadata": {},
   "outputs": [
    {
     "name": "stdout",
     "output_type": "stream",
     "text": [
      "          Faixa_Predito  Reinternados   Total  PercentualAcerto\n",
      "1         Baixo [0-40%[         81731  995442               8.2\n",
      "2     Moderado [40-60%[          4559    8426              54.1\n",
      "0         Alto [60-80%[          9684   14390              67.3\n",
      "3  Muito Alto [80-100%[           397     413              96.1\n"
     ]
    }
   ],
   "source": [
    "data = pd.DataFrame(data = {\n",
    "    \"PESO_BAIXO\": y_val,\n",
    "    \"Predito\": y_prob\n",
    "})\n",
    "\n",
    "data['Faixa_Predito'] = np.select(\n",
    "    [\n",
    "        data['Predito'] < 0.3,\n",
    "        (data['Predito'] >= 0.3) & (data['Predito'] < 0.6),\n",
    "        (data['Predito'] >= 0.6) & (data['Predito'] < 0.8),\n",
    "        data['Predito'] >= 0.8\n",
    "    ],\n",
    "    [\n",
    "        \"Baixo [0-40%[\",\n",
    "        \"Moderado [40-60%[\",\n",
    "        \"Alto [60-80%[\",\n",
    "        \"Muito Alto [80-100%[\"\n",
    "    ]\n",
    ")\n",
    "\n",
    "data['Faixa_Predito_order'] = np.select(\n",
    "    [\n",
    "        data['Predito'] < 0.3,\n",
    "        (data['Predito'] >= 0.3) & (data['Predito'] < 0.6),\n",
    "        (data['Predito'] >= 0.6) & (data['Predito'] < 0.8),\n",
    "        data['Predito'] >= 0.8\n",
    "    ],\n",
    "    [\"1\", \"2\", \"3\", \"4\"]\n",
    ")\n",
    "\n",
    "# Aggregating the data to calculate `Reinternados`, `Total`, and `Percentual`\n",
    "ranges = (\n",
    "    data.groupby(['Faixa_Predito', 'Faixa_Predito_order'])\n",
    "    .agg(\n",
    "        Reinternados=('PESO_BAIXO', 'sum'),\n",
    "        Total=('PESO_BAIXO', 'size'),\n",
    "        PercentualAcerto=('PESO_BAIXO', lambda x: 100 * round(x.sum() / len(x), 3))\n",
    "    )\n",
    "    .reset_index()\n",
    "    .sort_values(by='Faixa_Predito_order')\n",
    "    .drop(columns=['Faixa_Predito_order'])\n",
    ")\n",
    "\n",
    "print(ranges)"
   ]
  },
  {
   "cell_type": "markdown",
   "metadata": {},
   "source": [
    "## Aplicando modelo na base de teste"
   ]
  },
  {
   "cell_type": "code",
   "execution_count": 17,
   "metadata": {},
   "outputs": [
    {
     "data": {
      "text/plain": [
       "['C:\\\\Users\\\\Usuario\\\\Desktop\\\\GitHub\\\\LWB_article\\\\LBW_article\\\\model_lbw.joblib']"
      ]
     },
     "execution_count": 17,
     "metadata": {},
     "output_type": "execute_result"
    }
   ],
   "source": [
    "import joblib\n",
    "\n",
    "pipe = Pipeline(steps=[(\"preprocessor\", preprocessor), \n",
    "                       (\"classifier\", LGBMClassifier(verbose = -1))])\n",
    "\n",
    "pipe.fit(X_train, y_train)\n",
    "\n",
    "\n",
    "joblib.dump(pipe, 'C:\\\\Users\\\\Usuario\\\\Desktop\\\\GitHub\\\\LWB_article\\\\LBW_article\\\\model_lbw.joblib') "
   ]
  },
  {
   "cell_type": "code",
   "execution_count": 18,
   "metadata": {},
   "outputs": [],
   "source": [
    "del pipe"
   ]
  },
  {
   "cell_type": "code",
   "execution_count": 20,
   "metadata": {},
   "outputs": [],
   "source": [
    "pipe = joblib.load('C:\\\\Users\\\\Usuario\\\\Desktop\\\\GitHub\\\\LWB_article\\\\LBW_article\\\\model_lbw.joblib') "
   ]
  },
  {
   "cell_type": "code",
   "execution_count": 13,
   "metadata": {},
   "outputs": [
    {
     "name": "stdout",
     "output_type": "stream",
     "text": [
      "              precision    recall  f1-score   support\n",
      "\n",
      "           0       0.92      0.95      0.93    704121\n",
      "           1       0.32      0.22      0.26     75806\n",
      "\n",
      "    accuracy                           0.88    779927\n",
      "   macro avg       0.62      0.59      0.60    779927\n",
      "weighted avg       0.86      0.88      0.87    779927\n",
      "\n",
      "[[668222  35899]\n",
      " [ 59038  16768]]\n"
     ]
    }
   ],
   "source": [
    "dt24 = pd.read_csv(\"D:/Users/User/Desktop/PC/Faculdade/Aprendizado de Máquinas - Mestrado/DNOPEN24.csv\", sep = \";\")\n",
    "dt24['PESO_BAIXO'] = np.where(dt24['PESO'] < 2500, 1, 0)\n",
    "\n",
    "test_pred = pipe.predict_proba(dt24)[:, 1]\n",
    "\n",
    "print(classification_report(dt24['PESO_BAIXO'], np.where(test_pred > bt_o, 1, 0)))   \n",
    "\n",
    "print(confusion_matrix(dt24['PESO_BAIXO'], np.where(test_pred > bt_o, 1, 0)))    \n"
   ]
  },
  {
   "cell_type": "code",
   "execution_count": 14,
   "metadata": {},
   "outputs": [
    {
     "name": "stdout",
     "output_type": "stream",
     "text": [
      "          Faixa_Predito  Reinternados   Total  PercentualAcerto\n",
      "1         Baixo [0-40%[         64002  761399               8.4\n",
      "2     Moderado [40-60%[          3927    7038              55.8\n",
      "0         Alto [60-80%[          7597   11188              67.9\n",
      "3  Muito Alto [80-100%[           280     302              92.7\n"
     ]
    }
   ],
   "source": [
    "data = pd.DataFrame(data = {\n",
    "    \"PESO_BAIXO\": dt24['PESO_BAIXO'],\n",
    "    \"Predito\": test_pred\n",
    "})\n",
    "\n",
    "data['Faixa_Predito'] = np.select(\n",
    "    [\n",
    "        data['Predito'] < 0.3,\n",
    "        (data['Predito'] >= 0.3) & (data['Predito'] < 0.6),\n",
    "        (data['Predito'] >= 0.6) & (data['Predito'] < 0.8),\n",
    "        data['Predito'] >= 0.8\n",
    "    ],\n",
    "    [\n",
    "        \"Baixo [0-40%[\",\n",
    "        \"Moderado [40-60%[\",\n",
    "        \"Alto [60-80%[\",\n",
    "        \"Muito Alto [80-100%[\"\n",
    "    ]\n",
    ")\n",
    "\n",
    "data['Faixa_Predito_order'] = np.select(\n",
    "    [\n",
    "        data['Predito'] < 0.3,\n",
    "        (data['Predito'] >= 0.3) & (data['Predito'] < 0.6),\n",
    "        (data['Predito'] >= 0.6) & (data['Predito'] < 0.8),\n",
    "        data['Predito'] >= 0.8\n",
    "    ],\n",
    "    [\"1\", \"2\", \"3\", \"4\"]\n",
    ")\n",
    "\n",
    "# Aggregating the data to calculate `Reinternados`, `Total`, and `Percentual`\n",
    "ranges = (\n",
    "    data.groupby(['Faixa_Predito', 'Faixa_Predito_order'])\n",
    "    .agg(\n",
    "        Reinternados=('PESO_BAIXO', 'sum'),\n",
    "        Total=('PESO_BAIXO', 'size'),\n",
    "        PercentualAcerto=('PESO_BAIXO', lambda x: 100 * round(x.sum() / len(x), 3))\n",
    "    )\n",
    "    .reset_index()\n",
    "    .sort_values(by='Faixa_Predito_order')\n",
    "    .drop(columns=['Faixa_Predito_order'])\n",
    ")\n",
    "\n",
    "print(ranges)"
   ]
  },
  {
   "cell_type": "code",
   "execution_count": 24,
   "metadata": {},
   "outputs": [],
   "source": [
    "from pyspark.sql import SparkSession\n",
    "from pyspark.sql.functions import concat, lit, lpad, substring, to_date, col, when\n",
    "\n",
    "spark = SparkSession.builder \\\n",
    "        .appName(\"CSV API Reader - LBW\") \\\n",
    "        .getOrCreate()\n",
    "\n",
    "def process_data(data):\n",
    "\n",
    "    data = data.withColumn(\"DTNASC_padded\",\n",
    "                    lpad(col(\"DTNASC\"), 8, '0')).select(\n",
    "                    \"IDADEMAE\", \n",
    "                    \"RACACORMAE\",\n",
    "                    \"CODMUNNASC\",\n",
    "                    \"PESO\",\n",
    "                    # Optimized date transformation\n",
    "                    to_date(\n",
    "                        concat(\n",
    "                            lpad(substring(col(\"DTNASC_padded\"), 1, 2), 2, '0'),\n",
    "                            lpad(substring(col(\"DTNASC_padded\"), 3, 2), 2, '0'),\n",
    "                            substring(col(\"DTNASC_padded\"), 5, 4)\n",
    "                        ),\n",
    "                        'ddMMyyyy'\n",
    "                    ).alias(\"DTNASC_padded\")\n",
    "                ).withColumn(\"UF\", substring(col(\"CODMUNNASC\"), 1, 2)\n",
    "                ).withColumn(\"ANO\", substring(col(\"DTNASC_padded\"), 1, 4)\n",
    "                ).select(\"IDADEMAE\", \"RACACORMAE\", \"DTNASC_padded\", \"UF\", \"ANO\", \"PESO\")\n",
    "                \n",
    "\n",
    "    return data\n",
    "\n",
    "def createRegionState(data):\n",
    "\n",
    "    data = data.withColumn(\"REGIAO\",\n",
    "                            when(col(\"UF\").isin([11, 12, 13, 14, 15, 16, 17]), \"Norte\")\n",
    "                            .when(col(\"UF\").isin([21, 22, 23, 24, 25, 26, 27, 28, 29]), \"Nordeste\")\n",
    "                            .when(col(\"UF\").isin([31, 32, 33, 35]), \"Sudeste\")\n",
    "                            .when(col(\"UF\").isin([41, 42, 43]), \"Sul\")\n",
    "                            .when(col(\"UF\").isin([50, 51, 52, 53]), \"Centro Oeste\")\n",
    "                            .otherwise(\"NA\")  # Default value if none of the conditions match\n",
    "                        ).withColumn(\"ESTADO\",\n",
    "                            when(col(\"UF\") == 12, \"Acre\")\n",
    "                            .when(col(\"UF\") == 27, \"Alagoas\")\n",
    "                            .when(col(\"UF\") == 16, \"Amapá\")\n",
    "                            .when(col(\"UF\") == 13, \"Amazonas\")\n",
    "                            .when(col(\"UF\") == 29, \"Bahia\")\n",
    "                            .when(col(\"UF\") == 23, \"Ceará\")\n",
    "                            .when(col(\"UF\") == 53, \"Distrito Federal\")\n",
    "                            .when(col(\"UF\") == 32, \"Espírito Santo\")\n",
    "                            .when(col(\"UF\") == 52, \"Goiás\")\n",
    "                            .when(col(\"UF\") == 21, \"Maranhão\")\n",
    "                            .when(col(\"UF\") == 51, \"Mato Grosso\")\n",
    "                            .when(col(\"UF\") == 50, \"Mato Grosso do Sul\")\n",
    "                            .when(col(\"UF\") == 31, \"Minas Gerais\")\n",
    "                            .when(col(\"UF\") == 15, \"Pará\")\n",
    "                            .when(col(\"UF\") == 25, \"Paraíba\")\n",
    "                            .when(col(\"UF\") == 41, \"Paraná\")\n",
    "                            .when(col(\"UF\") == 26, \"Pernambuco\")\n",
    "                            .when(col(\"UF\") == 22, \"Piauí\")\n",
    "                            .when(col(\"UF\") == 24, \"Rio Grande do Norte\")\n",
    "                            .when(col(\"UF\") == 43, \"Rio Grande do Sul\")\n",
    "                            .when(col(\"UF\") == 33, \"Rio de Janeiro\")\n",
    "                            .when(col(\"UF\") == 11, \"Rondônia\")\n",
    "                            .when(col(\"UF\") == 14, \"Roraima\")\n",
    "                            .when(col(\"UF\") == 42, \"Santa Catarina\")\n",
    "                            .when(col(\"UF\") == 35, \"São Paulo\")\n",
    "                            .when(col(\"UF\") == 28, \"Sergipe\")\n",
    "                            .when(col(\"UF\") == 17, \"Tocantins\")\n",
    "                            .otherwise(\"NA\")  # Default value if no condition matches\n",
    "                        )\n",
    "\n",
    "    return data"
   ]
  },
  {
   "cell_type": "code",
   "execution_count": 25,
   "metadata": {},
   "outputs": [
    {
     "name": "stdout",
     "output_type": "stream",
     "text": [
      "36796537\n",
      "+--------+----------+-------------+---+----+----+------+--------+\n",
      "|IDADEMAE|RACACORMAE|DTNASC_padded| UF| ANO|PESO|REGIAO|  ESTADO|\n",
      "+--------+----------+-------------+---+----+----+------+--------+\n",
      "|      20|      NULL|   2011-02-17| 11|2011|2760| Norte|Rondônia|\n",
      "|      22|      NULL|   2011-01-25| 11|2011|3830| Norte|Rondônia|\n",
      "|      25|         5|   2011-03-21| 11|2011|3250| Norte|Rondônia|\n",
      "|      30|      NULL|   2011-03-05| 11|2011|3650| Norte|Rondônia|\n",
      "|      16|      NULL|   2011-02-18| 12|2011|3000| Norte|    Acre|\n",
      "+--------+----------+-------------+---+----+----+------+--------+\n",
      "only showing top 5 rows\n",
      "\n",
      "None\n"
     ]
    }
   ],
   "source": [
    "dt = spark.read.csv(\"C:/Users/Usuario/Desktop/GitHub/LWB_article/LBW_article/bases/SINASC_2011.csv\",\n",
    "                            header=True,  # Assumes the first row is a header\n",
    "                            inferSchema=True,  # Automatically detect column types\n",
    "                            sep=';')\n",
    "dt = process_data(dt)\n",
    "dt = createRegionState(dt)\n",
    "\n",
    "for ano in range(12, 22):\n",
    "    dt_aux = spark.read.csv(\"C:/Users/Usuario/Desktop/GitHub/LWB_article/LBW_article/bases/SINASC_20\" + str(ano) + \".csv\",\n",
    "                            header=True,  # Assumes the first row is a header\n",
    "                            inferSchema=True,  # Automatically detect column types\n",
    "                            sep=';')\n",
    "    dt_aux = process_data(dt_aux)\n",
    "    dt_aux = createRegionState(dt_aux)\n",
    "\n",
    "    dt = dt.union(dt_aux)\n",
    "\n",
    "for ano in range(22, 24):\n",
    "    dt_aux = spark.read.csv(\"C:/Users/Usuario/Desktop/GitHub/LWB_article/LBW_article/bases/DNOPEN\" + str(ano) + \".csv\",\n",
    "                            header=True,  # Assumes the first row is a header\n",
    "                            inferSchema=True,  # Automatically detect column types\n",
    "                            sep=';')\n",
    "    dt_aux = process_data(dt_aux)\n",
    "    dt_aux = createRegionState(dt_aux)\n",
    "\n",
    "    dt = dt.union(dt_aux)\n",
    "\n",
    "print(dt.count())\n",
    "print(dt.show(5))"
   ]
  },
  {
   "cell_type": "code",
   "execution_count": 40,
   "metadata": {},
   "outputs": [],
   "source": [
    "from pyspark.sql import functions as F\n",
    "\n",
    "dt_grouped_ANO = dt.withColumn('BAIXO_PESO', F.when(F.col('PESO') <= 2500, 1).otherwise(0)).groupBy('ANO') \\\n",
    "            .agg(F.format_number(F.avg('BAIXO_PESO') * 100, 2).alias('AVG_BAIXO_PESO')) \\\n",
    "            .orderBy('ANO', ascending=False)\n",
    "dt_grouped_ANO = dt_grouped_ANO.toPandas()\n",
    "dt_grouped_ANO.to_csv(\"bases/dt_grouped_ANO.csv\",sep=\";\",index=False)"
   ]
  },
  {
   "cell_type": "code",
   "execution_count": null,
   "metadata": {},
   "outputs": [
    {
     "name": "stdout",
     "output_type": "stream",
     "text": [
      "+----+-------+--------------+\n",
      "| ANO| REGIAO|AVG_BAIXO_PESO|\n",
      "+----+-------+--------------+\n",
      "|2015|    Sul|          8.72|\n",
      "|2012|    Sul|          8.87|\n",
      "|2013|    Sul|          8.77|\n",
      "|2014|    Sul|          8.80|\n",
      "|2011|    Sul|          9.02|\n",
      "|2016|    Sul|          8.79|\n",
      "|2017|    Sul|          8.77|\n",
      "|2018|    Sul|          8.79|\n",
      "|2019|    Sul|          9.00|\n",
      "|2020|    Sul|          8.82|\n",
      "|2021|    Sul|          9.07|\n",
      "|2022|    Sul|          9.52|\n",
      "|2023|    Sul|          9.48|\n",
      "|2011|Sudeste|          9.48|\n",
      "|2012|Sudeste|          9.41|\n",
      "|2013|Sudeste|          9.38|\n",
      "|2014|Sudeste|          9.24|\n",
      "|2015|Sudeste|          9.22|\n",
      "|2020|Sudeste|          9.27|\n",
      "|2016|Sudeste|          9.31|\n",
      "+----+-------+--------------+\n",
      "only showing top 20 rows\n",
      "\n"
     ]
    }
   ],
   "source": [
    "dt_grouped_ANO_REGIAO = dt.withColumn('BAIXO_PESO', F.when(F.col('PESO') <= 2500, 1).otherwise(0)).groupBy('ANO', 'REGIAO') \\\n",
    "            .agg(F.format_number(F.avg('BAIXO_PESO') * 100, 2).alias('AVG_BAIXO_PESO')) \\\n",
    "            .orderBy('REGIAO', ascending=False).show()"
   ]
  },
  {
   "cell_type": "code",
   "execution_count": null,
   "metadata": {},
   "outputs": [
    {
     "name": "stdout",
     "output_type": "stream",
     "text": [
      "+----+---------+--------------+\n",
      "| ANO|   ESTADO|AVG_BAIXO_PESO|\n",
      "+----+---------+--------------+\n",
      "|2017|Tocantins|          7.60|\n",
      "|2012|Tocantins|          7.52|\n",
      "|2013|Tocantins|          7.54|\n",
      "|2011|Tocantins|          7.53|\n",
      "|2014|Tocantins|          7.51|\n",
      "|2015|Tocantins|          7.65|\n",
      "|2016|Tocantins|          7.63|\n",
      "|2018|Tocantins|          8.19|\n",
      "|2019|Tocantins|          8.02|\n",
      "|2020|Tocantins|          8.27|\n",
      "|2021|Tocantins|          8.59|\n",
      "|2022|Tocantins|          8.80|\n",
      "|2023|Tocantins|          8.95|\n",
      "|2012|São Paulo|          9.46|\n",
      "|2011|São Paulo|          9.48|\n",
      "|2014|São Paulo|          9.32|\n",
      "|2013|São Paulo|          9.48|\n",
      "|2015|São Paulo|          9.27|\n",
      "|2016|São Paulo|          9.29|\n",
      "|2017|São Paulo|          9.31|\n",
      "+----+---------+--------------+\n",
      "only showing top 20 rows\n",
      "\n"
     ]
    }
   ],
   "source": [
    "dt_grouped_ANO_ESTADO = dt.withColumn('BAIXO_PESO', F.when(F.col('PESO') <= 2500, 1).otherwise(0)).groupBy('ANO', 'ESTADO') \\\n",
    "            .agg(F.format_number(F.avg('BAIXO_PESO') * 100, 2).alias('AVG_BAIXO_PESO')) \\\n",
    "            .orderBy('ESTADO', ascending=False).show()"
   ]
  },
  {
   "cell_type": "code",
   "execution_count": 11,
   "metadata": {},
   "outputs": [
    {
     "ename": "AttributeError",
     "evalue": "'str' object has no attribute 'read'",
     "output_type": "error",
     "traceback": [
      "\u001b[1;31m---------------------------------------------------------------------------\u001b[0m",
      "\u001b[1;31mAttributeError\u001b[0m                            Traceback (most recent call last)",
      "Cell \u001b[1;32mIn[11], line 20\u001b[0m\n\u001b[0;32m     16\u001b[0m df \u001b[38;5;241m=\u001b[39m pd\u001b[38;5;241m.\u001b[39mDataFrame(data)\n\u001b[0;32m     18\u001b[0m \u001b[38;5;66;03m# Fetch the GeoJSON file for Brazilian states\u001b[39;00m\n\u001b[1;32m---> 20\u001b[0m brazil_geojson \u001b[38;5;241m=\u001b[39m \u001b[43mjson\u001b[49m\u001b[38;5;241;43m.\u001b[39;49m\u001b[43mload\u001b[49m\u001b[43m(\u001b[49m\u001b[38;5;124;43m\"\u001b[39;49m\u001b[38;5;124;43mC:/Users/Usuario/Desktop/GitHub/LWB_article/LBW_article/bases/brazil_geo.json\u001b[39;49m\u001b[38;5;124;43m\"\u001b[39;49m\u001b[43m)\u001b[49m\n\u001b[0;32m     22\u001b[0m \u001b[38;5;66;03m# Add proportion data to the GeoJSON features\u001b[39;00m\n\u001b[0;32m     23\u001b[0m \u001b[38;5;28;01mfor\u001b[39;00m feature \u001b[38;5;129;01min\u001b[39;00m brazil_geojson[\u001b[38;5;124m\"\u001b[39m\u001b[38;5;124mfeatures\u001b[39m\u001b[38;5;124m\"\u001b[39m]:\n",
      "File \u001b[1;32mc:\\Users\\Usuario\\AppData\\Local\\Programs\\Python\\Python311\\Lib\\json\\__init__.py:293\u001b[0m, in \u001b[0;36mload\u001b[1;34m(fp, cls, object_hook, parse_float, parse_int, parse_constant, object_pairs_hook, **kw)\u001b[0m\n\u001b[0;32m    274\u001b[0m \u001b[38;5;28;01mdef\u001b[39;00m \u001b[38;5;21mload\u001b[39m(fp, \u001b[38;5;241m*\u001b[39m, \u001b[38;5;28mcls\u001b[39m\u001b[38;5;241m=\u001b[39m\u001b[38;5;28;01mNone\u001b[39;00m, object_hook\u001b[38;5;241m=\u001b[39m\u001b[38;5;28;01mNone\u001b[39;00m, parse_float\u001b[38;5;241m=\u001b[39m\u001b[38;5;28;01mNone\u001b[39;00m,\n\u001b[0;32m    275\u001b[0m         parse_int\u001b[38;5;241m=\u001b[39m\u001b[38;5;28;01mNone\u001b[39;00m, parse_constant\u001b[38;5;241m=\u001b[39m\u001b[38;5;28;01mNone\u001b[39;00m, object_pairs_hook\u001b[38;5;241m=\u001b[39m\u001b[38;5;28;01mNone\u001b[39;00m, \u001b[38;5;241m*\u001b[39m\u001b[38;5;241m*\u001b[39mkw):\n\u001b[0;32m    276\u001b[0m \u001b[38;5;250m    \u001b[39m\u001b[38;5;124;03m\"\"\"Deserialize ``fp`` (a ``.read()``-supporting file-like object containing\u001b[39;00m\n\u001b[0;32m    277\u001b[0m \u001b[38;5;124;03m    a JSON document) to a Python object.\u001b[39;00m\n\u001b[0;32m    278\u001b[0m \n\u001b[1;32m   (...)\u001b[0m\n\u001b[0;32m    291\u001b[0m \u001b[38;5;124;03m    kwarg; otherwise ``JSONDecoder`` is used.\u001b[39;00m\n\u001b[0;32m    292\u001b[0m \u001b[38;5;124;03m    \"\"\"\u001b[39;00m\n\u001b[1;32m--> 293\u001b[0m     \u001b[38;5;28;01mreturn\u001b[39;00m loads(\u001b[43mfp\u001b[49m\u001b[38;5;241;43m.\u001b[39;49m\u001b[43mread\u001b[49m(),\n\u001b[0;32m    294\u001b[0m         \u001b[38;5;28mcls\u001b[39m\u001b[38;5;241m=\u001b[39m\u001b[38;5;28mcls\u001b[39m, object_hook\u001b[38;5;241m=\u001b[39mobject_hook,\n\u001b[0;32m    295\u001b[0m         parse_float\u001b[38;5;241m=\u001b[39mparse_float, parse_int\u001b[38;5;241m=\u001b[39mparse_int,\n\u001b[0;32m    296\u001b[0m         parse_constant\u001b[38;5;241m=\u001b[39mparse_constant, object_pairs_hook\u001b[38;5;241m=\u001b[39mobject_pairs_hook, \u001b[38;5;241m*\u001b[39m\u001b[38;5;241m*\u001b[39mkw)\n",
      "\u001b[1;31mAttributeError\u001b[0m: 'str' object has no attribute 'read'"
     ]
    }
   ],
   "source": [
    "import pandas as pd\n",
    "import folium\n",
    "import requests\n",
    "import json\n",
    "\n",
    "dt_group_ANO_ESTADO = pd.read_csv(\"C:/Users/Usuario/Desktop/GitHub/LWB_article/LBW_article/bases/dt_grouped_ANO_ESTADO.csv\", sep = \";\")\n",
    "\n",
    "dt_group_ANO_ESTADO = dt_group_ANO_ESTADO[dt_group_ANO_ESTADO['ANO'] == 2023]\n",
    "\n",
    "# Create a DataFrame\n",
    "data = pd.DataFrame({\n",
    "    'State': dt_group_ANO_ESTADO['ESTADO'].to_numpy(),\n",
    "    'Proportion': dt_group_ANO_ESTADO['AVG_BAIXO_PESO'].to_numpy()\n",
    "})\n",
    "\n",
    "df = pd.DataFrame(data)\n",
    "\n",
    "\n",
    "brazil_geojson = json.load(\"C:/Users/Usuario/Desktop/GitHub/LWB_article/LBW_article/bases/brazil_geo.json\")\n",
    "\n",
    "# Add proportion data to the GeoJSON features\n",
    "for feature in brazil_geojson[\"features\"]:\n",
    "    state_code = feature[\"properties\"][\"sigla\"]\n",
    "    proportion = df[df[\"State\"] == state_code][\"Proportion\"].values\n",
    "    if len(proportion) > 0:\n",
    "        feature[\"properties\"][\"proportion\"] = proportion[0]\n",
    "    else:\n",
    "        feature[\"properties\"][\"proportion\"] = \"N/A\"  # Handle missing data\n",
    "\n",
    "print(feature)\n",
    "\n",
    "# Create a base map centered on Brazil\n",
    "#m = folium.Map(location=[-14.2350, -51.9253], zoom_start=4)\n",
    "#m\n"
   ]
  }
 ],
 "metadata": {
  "kernelspec": {
   "display_name": "Python 3",
   "language": "python",
   "name": "python3"
  },
  "language_info": {
   "codemirror_mode": {
    "name": "ipython",
    "version": 3
   },
   "file_extension": ".py",
   "mimetype": "text/x-python",
   "name": "python",
   "nbconvert_exporter": "python",
   "pygments_lexer": "ipython3",
   "version": "3.11.3"
  }
 },
 "nbformat": 4,
 "nbformat_minor": 2
}
