{
 "cells": [
  {
   "cell_type": "code",
   "execution_count": 51,
   "metadata": {},
   "outputs": [],
   "source": [
    "from langchain_community.llms import Ollama \n",
    "\n",
    "llm = Ollama(model=\"mistral\")"
   ]
  },
  {
   "cell_type": "code",
   "execution_count": 40,
   "metadata": {},
   "outputs": [],
   "source": [
    "text = \"\"\"\n",
    "resumo \n",
    "  O peso do recém-nascido é um fator importante para sua saúde e seu desenvolvimento. Um individuo que nasce com peso abaixo do esperado pode representar riscos tanto para si quanto para a mãe. Baixo peso ao nascer está relacionado a problemas no desenvolvimento da linguagem. Conseguir prever o risco de baixo peso pode ser uma ferramenta médica importante. Trabalhos anteriores com o mesmo objetivo utilizaram tanto informações da mãe como informações do bebê, a partir de exames neonatal. Este trabalho propõe desenvolver um modelo de Machine Learning para prever o o risco de baixo peso ao nascer a partir de dados demográficos da mãe e do pai, disponíveis no SINASC DATASUS.\n",
    "resumo\n",
    "\n",
    "Introdução\n",
    "\n",
    "Segundo a Organização Mundial da Saúde (OMS), Baixo Peso ao Nascer (BPN) é definido como peso inferior a 2500 gramas ao nascer independente do idade gestacional. Quando comparados com bebês que nasceram acima dessa linha de corte, nascidos de baixo peso possuem maior risco de óbito, podem apresentar problemas de crescimento e desenvolvimento intelectual. E quando adultos, podem apresentar maior risco de obesidade, desenvolvimento de doenças do coração e diabetes cite{WHO1. Parto prematuro, má nutrição materna, consumo de alcool e cigarro durante a gestação são fatores já conhecidos que aumentam o risco de BPN. \n",
    "\n",
    "A partir do momento que o médico possui a informação de que determinada gravidez possui alto risco de gerar um bebê com baixo peso, uma série de medidas podem ser tomadas para evitar esse desfecho. Melhorar o status nutricional da mãe e o acesso a acompanhamento pré-natal são medidas que tendem a diminuir o risco de Baixo Peso ao Nascer cite{WHO1.\n",
    "\n",
    "Além disso, existe uma série de intervenções, em diferentes níveis, para previnir BPN. A nível nacional/regional podem ser adotados programas de proteção social, melhoria na qualidade de água, etc. Já a nível pessoa, a suplementação de nutrientes como ferro e ácido fólico contribuem para um melhor desenvolvimento da gravidez.\n",
    "\n",
    "A proporção de BPN no mundo varia, em média, entre cerca de 7% e 17%, com algumas regiões chegando até 26%. A partir de dados obtidos no DATASUS SINASC, em 2022 a proporção de Baixo Peso ao Nascer foi de cerca de 9%. Conseguir prever com atencedência esse risco pode ser uma importante ferramenta para auxiliar o médico na condução daquela gestação.\n",
    "\n",
    "Trabalhos anteriores anteriores se ocuparam em desenvolver modelos de Machine Learning (ML) utilizando dados demográficos, condições de saúde pré-existentes e informações de exames pré-natal cite{Ranjbar2023-la. Nesse artigo nós buscamos desenvolver um modelo de Machine Learning com o objetivo de calcular a probabilidade de Baixo Peso ao Nascer utilizando as variáveis disponíveis n'O Sistema de Informações sobre Nascidos Vivos (SINASC).\n",
    "\n",
    "Revisão da Literatura\n",
    "\n",
    "Diversos autores se ocuparam tanto em identificar fatores de risco quanto em desenvolver modelos de machine learning para prever baixo peso ao nascer. Chen et al. (2013), a partir de uma base de  101.163 partos em 14 diferentes regiões na China pôde identificar que idade da mãe menor que 20 anos, com baixo nível de educação e histórico de partos adversos são fatores associados ao risco de baixo peso ao nascer.\n",
    "\n",
    "Ranjbar et al. (2023) testou o uso dos algoritmos Regressão Logística (RL), Árvore de Decisão, Floresta Aleatória, Deep Learning Fastforward, Light GBM, XGBoost, SVM e KNN com dados da Iranian Maternal and Neonatal Network (IMaN Net) de janeiro de 2020 até janeiro de 2022 para desenvolver um modelo de ML capaz de prever baixo peso ao nascer. Em um universo de 8.853 partos, 1.280 (14,5%) foram de bebês com o desfecho de interesse. Além disso, os pesquisadores dispunham tanto de dados demográficos da mãe quanto sua informações de saúde e comorbidades. Para o treino e validação do modelo, a base foi separada em amostra treino (70%) e teste (30%). Já a validação interna foi realiza com k-fold cross-validation. Com esses dados, a equipe constatou que o XGBoost foi o melhor modelo para a tarefa, com acurácia de 0,79, precisão de 0,87, recall de 0,69 e F1 score de 0,77. E, dentre as variáveis disponíveis, idade gestacional e histórico de BPN foram os principais preditores. \n",
    "\n",
    "Já Islam Pollob et al. (2022) trabalhou com uma base de 2351 respondentes proveniente da Bangladesh Demographic and Health Survey entre 2017 e 2018 para, também desenvolver um modelo capaz de prever BPN nesse contexto. Dentre as observações, 16.2% foram bebês com baixo peso ao nascer. O estudo dispunha de informações demográficas da mãe, do parto ee do bebê. Os algoritmos Regressão Logística e Árvore de Decisão foram utilizados, e observou-se que a RL atingiu os melhores resultados, com acurácia de 0,87 e AUC de 0,59. No entanto, a conclusão do estudo foi de que seria necessária uma solução mais eficiente para ser utilizada na realidade de Bangladesh. Além disso, esse estudo utilizou variáveis obtidas no momento do parto, como local e tipo de parto.\n",
    "\n",
    "Singh et al. (2013) realizou um estudo num hospital universitário de cuidados terciários no norte da Índia, em uma base de  250 BPN e 250 com peso maior ou igual a 2.500g. Além disso, esse estudo teve acesso a informações de partos anteriores e de saúde da mãe, como ganho de peso durante a gravidez, incidência de anemia e má nutrição, nível educacional e etc. Os pesquisadores utilizaram seis variáveis preditoras, sendo elas: ganho de peso inadequado na mãe, quantidade de proteína inadequada na dieta da mãe, parto prematuro anterior, parto BPN anterior, anemia e fumante passiva. Modelando com uma regressão logística, a equipe atingiu, na base de validação, sensibilidade de 72% e especificidade de 64%.\n",
    "\n",
    "Diferente dos trabalhos anteriores, esse estudo busca desenvolver um modelo capaz de indicar o risco de baixo peso ao nascer com base em informações pessoais e demográficas da mãe e do pai. Desse modo, na primeira consulta com o médico já seria possível entender a necessidade de cuidados especiais. Além disso, o Sistema de Informações sobre Nascidos Vivos (SINASC) possui um amplo registro dos partos no Brasil, o que nos permite trabalhar com uma base de dados muito maior do que os trabalhos anteriores.\n",
    "\n",
    "Métodos\n",
    "\n",
    "Base de dados\n",
    "\n",
    "As descobertas desse estudo foram baseadas no Sistema de Informações sobre Nascidos Vivos (SINASC). Este programa foi implementado em 1990 com o objetivo de coletar dados sobre os nascimentos em todo território nacional e para todos os níveis do Sistema de Saúde. Agrupados por ano, as bases disponibilizadas contemplam uma série de informações demográficas sobre a mãe e o pai, além de informações sobre o próprio nascido. Foram selecionados os períodos de 2022 e 2023 para comporem a base de treino e o período de 2024 para a base de teste. Até a presente data, a base correspondente a 2024 possui nascimentos registrados até o dia 11 de junho de 2024.\n",
    "\n",
    "Pré-processamento e modelagem\n",
    "\n",
    "A população alvo foi divida conforme o seu peso, nascidos com menos de 2500g foram chamados Baixo Peso ao Nascer e nascidos com peso registrado maior ou igual a 2500g, Não Baixo Peso ao Nascer. Observações sem o peso registrado foram desconsiderados da base de dados. Além disso, as variáveis correspondentes a número de filhos vivos, número de gestações, número de partos normais, número de partos cesária e número de perdas fetais/abortos foram truncadas em 10, visto que uma proporção infima dos dados apresentaram valores maiores do que esse.\n",
    "\n",
    "Para desenvolver o modelo preditor, os seguintes algorítmos foram testados na tarefa de prever Baixo Peso ao Nascer: eXtreme Gradient Boosting (XGB), Light Gradient Boosting (LGBM), CatBoost, Naive Bayes e Random Forest. Para selecionar quais variáveis seriam consideradas no estudos como preditoras, duas linhas foram seguidas: variáveis sem ligação direta com o bebê, e o parto, e variáveis comuns nos estudos citados na seção de Revisão da Literatura. Desse modo, foram mantidas como possíveis variáveis dependentes a idade da mãe, idade do pai, estado civil da mãe, escolaridade em anos de estudo concluídos da mãe, número de filhos vivos e perdas fetais/abortos, número de partos normais e cesáreos, cor da mãe e tipo de gravidez (Vide Tabela ref{). Todas as variáveis selecionadas possuiam valores faltantes, que foram substituídos pelo valor mais frequente correspondente. Com exceção das variáveis ESTCIVMAE e ESCMAE, que foram substituídas por 9, visto que é um valor padrão para dados faltantes da própria base. Além disso, as variáveis categóricas foram transformadas em variáveis dummy segundo as suas categorias, com a técnica de OneHotEncoder. A linguagem de programação escolhida para desenvolver o estudo foi o Python e as bibliotecas Scikit-learn, Pandas e Seaborn foi utilizada para gerar os modelos de Machine Learning e as análises sobre as variáveis.\n",
    "\n",
    "Apesar dos dados estarem desbalanceados, optou-se por não aplicar nenhuma técnica de balanceamento. Segundo cite{elor2022smotesmote, técnicas de balanceamento de dados não melhoram a capacidade preditiva de modelos estado da arte, como os algoritmos de boosting. cite{elor2022smotesmote mostrou que balanceamento não melhora a capacidade preditiva de modelos Estado da Arte, como os modelos de Boosting. A recomendação é otimizar o threshold para melhorar modelos desbalanceados, o que foi aplicado neste artigo.\n",
    "\n",
    "A base de dados correspondente aos períodos de 2022 e 2023 foi utilizada tanto para treino quanto para validação interna, em uma proporção de 70% e 30%, respectivamente. A partir dessas amostras foram selecionados os melhores hiperparametros pela biblioteca Optuna, escolhidas as variáveis preditoras finais e escolhido o melhor modelo para a tarefa de predizer o risco de Baixo Peso ao Nascer. Já a base de teste, dados disponíveis de 2024, foi utilizada para reportar as métricas finais de validação do modelo.\n",
    "\n",
    "Métricas de validação\n",
    "\n",
    "Já com relação as métricas de validação observadas, este trabalho reporta a matriz de confusão, acurácia, Precision e Recall. A matriz de confusão é uma ferramenta de auxilio para melhor entender a distribuição de acertos e erros do modelo. A acurácia calcula a proporção de acertos do modelo na base de dados. Dado o alto nível de desbalanceamento da variável dependente, esta métrica deve ser observada com cuidado para não levar a interpretações incorretas da capacidade preditiva do modelo. Precision mede a proporção de verdadeiros positivos. Recall mede a assertividade dentre as observações positivas. Em outras palavras, quando a classe verdadeira era positiva, com que frequência o modelo predisse como positiva. Entendendo que o custo de falsos negativos seja maior do que o de falsos positivos para esse estudo, a métrica Recall foi priorizada no treino do modelo.\n",
    "\n",
    "Resultados\n",
    "\n",
    "A base de treino do modelo possuia 9,5% de Baixo Peso ao Nascer, dentre 4.074.684 milhões de nascidos entre 2022 e 2023. As Tabelas ,  ref{ possuem uma série de informações sobre a amostra com relação ao desfecho estudado.\n",
    "\n",
    "A Tabela  mostra que as médias de idade dos pais e das mães são muito similares entre os BPN e Não-BPN. No entanto, a Tabela ref{ mostra que mães com até 16 anos ou com mais de 35 anos apresentam maior proporção do desfecho. Assim como com relação a idade do pai, nos casos com até 16 anos ou maior que 45 anos.\n",
    "\n",
    "Já na Tabela  pode-se observar uma maior proporção de Baixo Peso ao Nascer em mães Solteira, Viúvas e Divorciadas se comparadas com mães Casadas e em União Estável, indicando que um maior suporte na gestação tem efeito no peso do bebê. E quanto maior a escolaridade da mãe, menor a incidência de BPN. Além disso, o Tipo de Gravidez também indica alguma relação com o desfecho, visto que nos casos de gravidez Dupla e Tripla ou Mais, a proporção de Baixo Peso ao Nascer observada foi de 62,88% e 96,05%, respectivamente.\n",
    "\n",
    "Também foi possível observar uma maior incidência de baixo peso ao nascer no caso de mães pretas. Se comparadas com mães brancas (menor valor), a proporção do desfecho é mais de 1,5% maior em mães pretas. Pode-se observar na Tabela  que a escolaridade da mãe tem um efeito negativo na proporção de baixo peso ao nascer: Quanto maior a escolaridade, menor a proporção do desfecho estudado.\n",
    "\n",
    "A maior parte dos partos registrados são nulíparos, então vemos uma maior proporção de BPN nessa categoria. No entanto, na Figura ref{fig:quantidade_gest podemos observar que a proporção do desfecho aumenta conforme o número de gestações anteriores aumentam. O mesmo ocorre para a quantidade de partos normais e cesária, e para a quantidade de filhos vivos e mortos (Vide Figura ref{fig:quantidades_4plots). Para o treino do modelo a variável referente a quantidade de gestações não foi considerada, visto que ela é uma combinação das variáveis sobre a quantidade de partos normais e quantidade de partos cesáreas.\n",
    "\n",
    "Os modelos Light Gradient Boosting (LGBM), CatBoost, Naive Bayes e Random Forest foram testados para verificar qual algoritmo desempenha melhor no problema em questão. A Tabela ref{ agrupa os resultados obtidos. Todos os modelos desempenharam de forma semelhante, de modo que poderíasse seguir com qualquer um dos 4. Optou-se por utilizar o Light Gradient Boosting por esse tipo de modelo já ser testado na literatura para essa mesma tarefa cite{Ranjbar2023-la.\n",
    "\n",
    "Após a escolha do modelo, aplicou-se a otimização de threshold com foco em melhorar o F1-Score na base de Validação Interna. As Tabelas ref{tab:tabela_MetricasValid e ref{tab:tabela_MetricasTeste concentram as métricas de validação das bases de Validação Interna e Teste (jan/24 - jun/24), respectivamente. Pode-se observar que os resultados foram os mesmos em ambos os casos, indicando que não houve overfitting durante o treino do modelo e que as bases são bem homogêneas nos diferentes períodos. No entanto, os resultados obtidos não são satisfatórios. \n",
    "\n",
    "Como o objetivo deste trabalho é prever o desfecho de Baixo Peso ao Nascer, a métrica Recall foi considerada a mais importante. O Recall, nesse caso, trata da quantidade de bebês com BPN que foram classificados como BPN pelo modelo. Pode-se observar que o Recall observado foi de 0,22. Ou seja, o modelo foi capaz de identificar somente 22% dos bebês registrados com baixo peso ao nascer.\n",
    "\n",
    "No entanto, a Tabela ref{tab:tabela_Acertos indica uma boa capacidade do modelo em prever Baixo Peso ao Nascer para os bebês com maior risco. Foram criadas 4 categorias de risco de BPN com base na probabilidade do desfecho:\n",
    "\n",
    "Desse modo, todos os nascidos no período recebem uma dessas 4 classificações conforme a sua probabilidade do desfecho. A categoria Baixo possui a maior quantidade de observações muito em função do desbalanceamento da base, e nessa categoria o modelo acerta pouco e agrupa a maior parte dos Baixo Peso ao Nascer. No entanto, conforme aumenta-se o risco de BPN, a capacidade do modelo em identificar quem realmente foi BPN aumenta. Na faixa Alto foram identificadas 11.188 observações, entre as quais 7.597 foram de bebês com baixo peso ao nascer, representando um percentual de 67,9%. Já na faixa Muito Alto, das 302 observações identificadas, 92,7% realmente foram BPN. Esses resultados nos mostram uma boa capacidade do modelo em identificar pacientes com maior risco de baixo peso ao nascer.\n",
    "\n",
    "\n",
    "Discussão\n",
    "\n",
    "A proposta do trabalho foi desenvolver um modelo de machine learning capaz de prever o risco de baixo peso ao nascer em bebês brasileiros, utilizando a base de dados do SINASC. Como se trata dos registros de nascidos vivos do Brasil, o conjunto de dados era muito grande se comparados aos utilizados em trabalhos anteriores, como cite{Ranjbar2023-la, cite{Islam_Pollob2022-we e cite{Singh2013-xv. No entanto, esses trabalhos dispunham de informações não disponíveis no SINASC, como dados de saúde da mãe e do feto. Nos seus trabalhos essa variáveis desempenharam papel importante na capacidade preditiva dos modelos.\n",
    "\n",
    "Além disso, este trabalho foi capaz de identificar fatores de risco para o desfecho de BPN e corroborar resultados encontrados anteriormente. cite{Chen2013 identificou que baixo nível de educação e histórico de partos adversos são fatores associados ao risco de baixo peso ao nascer. O mesmo resultado foi identificado aqui, onde a prevalencia do desfecho aumenta conforme a escolaridade diminui. Também foi observado um aumento no desfecho seguindo um aumento no histórico de filhos mortos, corroborando que partos adversos aumenta o risco de baixo peso ao nascer. Outrossim, seguindo o resultado obtido por cite{Ranjbar2023-la, o algoritmo de Machine Learning com melhores resultados foi o XGBoost.\n",
    "\n",
    "Pôde-se observar um efeito no Estado Civil da mãe, de modo que mulheres solteiras, viúvas ou divorcidadas estão mais propensas a desenvolverem gestações com BPN. Esse fator pode estar associado a falta de amparo no momento da gravidez, mas carece de estudos mais aprofundados nesse quesito. Além disso, a Cor da mãe também apresentou efeito no desfecho. Mães brancas possuem a menor incidência do desfecho, ao passo que mães pretas possuem a maior ocorrência de Baixo Peso ao Nascer.\n",
    "\n",
    "Também foi identificado um efeito muito significativo com relação ao Tipo de Gravidez. 96,05% dos partos triplos foram BPN, o que mostra a necessidade de uma maior atenção nesse tipo de ocasião. Por fim, a Quantidade de Gestações também parece ter impacto no desfecho, de modo que quanto mais partos (normal ou cesárea) a mãe passou, maior a incidência de BPN.\n",
    "\n",
    "Já com relação as métricas de validação do modelo, os resultados obtidos não apontam para uma boa separabilidade dos dados com as variáveis disponíveis. O Recall observado na base de Teste foi de 0,15, indicando que o modelo é capaz de identificar corretamente somente 15% dos nascidos com o desfecho estudado. No entanto, ao estratificar a probabilidade do desfecho por faixas de risco, pode-se observar uma boa capacidade do modelo em identificar os casos de mais alto risco, indicando uma caminho de futuras investigações e uso.\n",
    "\n",
    "Uma vez atingido o objetivo, esse modelo poderia ser utilizado para auxiliar médicos brasileiros na condução das gestações. Mas, para tal tarefa o modelo desenvolvido carece de boa acertividade. Os resultados aqui obtidos podem servir de indicativos para médicos no momento de iniciar um acompanhamento neonatal.\n",
    "\n",
    "Conclusão\n",
    "\n",
    "A proposta de desenvolver um modelo de Machine Learning capaz de prever o risco de baixo peso ao nascer utilizando a base de dados do SINASC não foi concluído de forma satisfatória, uma vez que o modelo criado carece de capacidade preditiva no desfecho de interesse. Utilizar o DATASUS limitou o tipo de variável disponível para o desenvolvimento, indicando que somente variáveis demográficas não são suficientes para a criação de um modelo preditivo.\n",
    "\"\"\"\n"
   ]
  },
  {
   "cell_type": "code",
   "execution_count": 2,
   "metadata": {},
   "outputs": [],
   "source": [
    "\"\"\"text = \n",
    "Segundo a Organização Mundial da Saúde (OMS), Baixo Peso ao Nascer (BPN) é definido como peso inferior a 2500 gramas ao nascer independente do idade gestacional. Quando comparados com bebês que nasceram acima dessa linha de corte, nascidos de baixo peso possuem maior risco de óbito, podem apresentar problemas de crescimento e desenvolvimento intelectual. E quando adultos, podem apresentar maior risco de obesidade, desenvolvimento de doenças do coração e diabetes. Parto prematuro, má nutrição materna, consumo de alcool e cigarro durante a gestação são fatores já conhecidos que aumentam o risco de BPN. \n",
    "\n",
    "A partir do momento que o médico possui a informação de que determinada gravidez possui alto risco de gerar um bebê com baixo peso, uma série de medidas podem ser tomadas para evitar esse desfecho. Melhorar o status nutricional da mãe e o acesso a acompanhamento pré-natal são medidas que tendem a diminuir o risco de Baixo Peso ao Nascer.\n",
    "\n",
    "Além disso, existe uma série de intervenções, em diferentes níveis, para previnir BPN. A nível nacional/regional podem ser adotados programas de proteção social, melhoria na qualidade de água, etc. Já a nível pessoa, a suplementação de nutrientes como ferro e ácido fólico contribuem para um melhor desenvolvimento da gravidez.\n",
    "\n",
    "A proporção de BPN no mundo varia, em média, entre cerca de 7% e 17%, com algumas regiões chegando até 26%. A partir de dados obtidos no DATASUS SINASC, em 2022 a proporção de Baixo Peso ao Nascer foi de cerca de 9% no Brasil. Conseguir prever com atencedência esse risco pode ser uma importante ferramenta para auxiliar o médico na condução daquela gestação.\n",
    "\n",
    "\n",
    "\"\"\"\n"
   ]
  },
  {
   "cell_type": "code",
   "execution_count": 53,
   "metadata": {},
   "outputs": [],
   "source": [
    "text = \"\"\"\n",
    "resumo \n",
    "  O peso do recém-nascido é um fator importante para sua saúde e seu desenvolvimento. Um individuo que nasce com peso abaixo do esperado pode representar riscos tanto para si quanto para a mãe. Baixo peso ao nascer está relacionado a problemas no desenvolvimento da linguagem. Conseguir prever o risco de baixo peso pode ser uma ferramenta médica importante. Trabalhos anteriores com o mesmo objetivo utilizaram tanto informações da mãe como informações do bebê, a partir de exames neonatal. Este trabalho propõe desenvolver um modelo de Machine Learning para prever o o risco de baixo peso ao nascer a partir de dados demográficos da mãe e do pai, disponíveis no SINASC DATASUS.\n",
    "resumo\n",
    "\n",
    "Introdução\n",
    "\n",
    "Segundo a Organização Mundial da Saúde (OMS), Baixo Peso ao Nascer (BPN) é definido como peso inferior a 2500 gramas ao nascer independente do idade gestacional cite{WHO1. Quando comparados com bebês que nasceram acima dessa linha de corte, nascidos de baixo peso possuem maior risco de óbito, podem apresentar problemas de crescimento e desenvolvimento intelectual. E quando adultos, podem apresentar maior risco de obesidade, desenvolvimento de doenças do coração e diabetes. Parto prematuro, má nutrição materna, consumo de alcool e cigarro durante a gestação são fatores já conhecidos que aumentam o risco de BPN. \n",
    "\n",
    "A partir do momento que o médico possui a informação de que determinada gravidez possui alto risco de gerar um bebê com baixo peso, uma série de medidas podem ser tomadas para evitar esse desfecho. Melhorar o status nutricional da mãe e o acesso a acompanhamento pré-natal são medidas que tendem a diminuir o risco de Baixo Peso ao Nascer cite{WHO1.\n",
    "\n",
    "Além disso, existe uma série de intervenções, em diferentes níveis, para previnir BPN. A nível nacional/regional podem ser adotados programas de proteção social, melhoria na qualidade de água, etc. Já a nível pessoa, a suplementação de nutrientes como ferro e ácido fólico contribuem para um melhor desenvolvimento da gravidez cite{WHO2.\n",
    "\n",
    "A proporção de BPN no mundo varia, em média, entre cerca de 7% e 17%, com algumas regiões chegando até 26%. A partir de dados obtidos no DATASUS SINASC, em 2022 a proporção de Baixo Peso ao Nascer foi de cerca de 9% no Brasil. Conseguir prever com atencedência esse risco pode ser uma importante ferramenta para auxiliar o médico na condução daquela gestação.\n",
    "\n",
    "Trabalhos anteriores anteriores se ocuparam em desenvolver modelos de Machine Learning (ML) utilizando dados demográficos, condições de saúde pré-existentes e informações de exames pré-natal cite{Ranjbar2023-la. Nesse artigo nós buscamos desenvolver um modelo de Machine Learning com o objetivo de calcular a probabilidade de Baixo Peso ao Nascer utilizando as variáveis disponíveis n'O Sistema de Informações sobre Nascidos Vivos (SINASC).\n",
    "\n",
    "Revisão da Literatura\n",
    "\n",
    "Diversos autores se ocuparam tanto em identificar fatores de risco quanto em desenvolver modelos de machine learning para prever baixo peso ao nascer. Chen et al. (2013), a partir de uma base de  101.163 partos em 14 diferentes regiões na China pôde identificar que idade da mãe menor que 20 anos, com baixo nível de educação e histórico de partos adversos são fatores associados ao risco de baixo peso ao nascer.\n",
    "\n",
    "Ranjbar et al. (2023) testou o uso dos algoritmos Regressão Logística (RL), Árvore de Decisão, Floresta Aleatória, Deep Learning Fastforward, Light GBM, XGBoost, SVM e KNN com dados da Iranian Maternal and Neonatal Network (IMaN Net) de janeiro de 2020 até janeiro de 2022 para desenvolver um modelo de ML capaz de prever baixo peso ao nascer. Em um universo de 8.853 partos, 1.280 (14,5%) foram de bebês com o desfecho de interesse. Além disso, os pesquisadores dispunham tanto de dados demográficos da mãe quanto sua informações de saúde e comorbidades. Para o treino e validação do modelo, a base foi separada em amostra treino (70%) e teste (30%). Já a validação interna foi realiza com k-fold cross-validation. Com esses dados, a equipe constatou que o XGBoost foi o melhor modelo para a tarefa, com acurácia de 0,79, precisão de 0,87, recall de 0,69 e F1 score de 0,77. E, dentre as variáveis disponíveis, idade gestacional e histórico de BPN foram os principais preditores. \n",
    "\n",
    "Já Islam Pollob et al. (2022) trabalhou com uma base de 2351 respondentes proveniente da Bangladesh Demographic and Health Survey entre 2017 e 2018 para, também desenvolver um modelo capaz de prever BPN nesse contexto. Dentre as observações, 16.2% foram bebês com baixo peso ao nascer. O estudo dispunha de informações demográficas da mãe, do parto ee do bebê. Os algoritmos Regressão Logística e Árvore de Decisão foram utilizados, e observou-se que a RL atingiu os melhores resultados, com acurácia de 0,87 e AUC de 0,59. No entanto, a conclusão do estudo foi de que seria necessária uma solução mais eficiente para ser utilizada na realidade de Bangladesh. Além disso, esse estudo utilizou variáveis obtidas no momento do parto, como local e tipo de parto.\n",
    "\n",
    "Singh et al. (2013) realizou um estudo num hospital universitário de cuidados terciários no norte da Índia, em uma base de  250 BPN e 250 com peso maior ou igual a 2.500g. Além disso, esse estudo teve acesso a informações de partos anteriores e de saúde da mãe, como ganho de peso durante a gravidez, incidência de anemia e má nutrição, nível educacional e etc. Os pesquisadores utilizaram seis variáveis preditoras, sendo elas: ganho de peso inadequado na mãe, quantidade de proteína inadequada na dieta da mãe, parto prematuro anterior, parto BPN anterior, anemia e fumante passiva. Modelando com uma regressão logística, a equipe atingiu, na base de validação, sensibilidade de 72% e especificidade de 64%.\n",
    "\n",
    "Diferente dos trabalhos anteriores, esse estudo busca desenvolver um modelo capaz de indicar o risco de baixo peso ao nascer com base em informações pessoais e demográficas da mãe e do pai. Desse modo, na primeira consulta com o médico já seria possível entender a necessidade de cuidados especiais. Além disso, o Sistema de Informações sobre Nascidos Vivos (SINASC) possui um amplo registro dos partos no Brasil, o que nos permite trabalhar com uma base de dados muito maior do que os trabalhos anteriores.\n",
    "\n",
    "Métodos\n",
    "\n",
    "Base de dados\n",
    "\n",
    "As descobertas desse estudo foram baseadas no Sistema de Informações sobre Nascidos Vivos (SINASC). Este programa foi implementado em 1990 com o objetivo de coletar dados sobre os nascimentos em todo território nacional e para todos os níveis do Sistema de Saúde. Agrupados por ano, as bases disponibilizadas contemplam uma série de informações demográficas sobre a mãe e o pai, além de informações sobre o próprio nascido. Foram selecionados os períodos de 2022 e 2023 para comporem a base de treino e o período de 2024 para a base de teste. Até a presente data, a base correspondente a 2024 possui nascimentos registrados até o dia 11 de junho de 2024.\n",
    "\n",
    "Pré-processamento e modelagem\n",
    "\n",
    "A população alvo foi divida conforme o seu peso, nascidos com menos de 2500g foram chamados Baixo Peso ao Nascer e nascidos com peso registrado maior ou igual a 2500g, Não Baixo Peso ao Nascer. Observações sem o peso registrado foram desconsiderados da base de dados. Além disso, as variáveis correspondentes a número de filhos vivos, número de gestações, número de partos normais, número de partos cesária e número de perdas fetais/abortos foram truncadas em 10, visto que uma proporção infima dos dados apresentaram valores maiores do que esse.\n",
    "\n",
    "Para desenvolver o modelo preditor, os seguintes algorítmos foram testados na tarefa de prever Baixo Peso ao Nascer: eXtreme Gradient Boosting (XGB), Light Gradient Boosting (LGBM), CatBoost, Naive Bayes e Random Forest. Para selecionar quais variáveis seriam consideradas no estudos como preditoras, duas linhas foram seguidas: variáveis sem ligação direta com o bebê, e o parto, e variáveis comuns nos estudos citados na seção de Revisão da Literatura. Desse modo, foram mantidas como possíveis variáveis dependentes a idade da mãe, idade do pai, estado civil da mãe, escolaridade em anos de estudo concluídos da mãe, número de filhos vivos e perdas fetais/abortos, número de partos normais e cesáreos, cor da mãe e tipo de gravidez (Vide Tabela ref{). Todas as variáveis selecionadas possuiam valores faltantes, que foram substituídos pelo valor mais frequente correspondente. Com exceção das variáveis ESTCIVMAE e ESCMAE, que foram substituídas por 9, visto que é um valor padrão para dados faltantes da própria base. Além disso, as variáveis categóricas foram transformadas em variáveis dummy segundo as suas categorias, com a técnica de OneHotEncoder. A linguagem de programação escolhida para desenvolver o estudo foi o Python e as bibliotecas Scikit-learn, Pandas e Seaborn foi utilizada para gerar os modelos de Machine Learning e as análises sobre as variáveis.\n",
    "\n",
    "Apesar dos dados estarem desbalanceados, optou-se por não aplicar nenhuma técnica de balanceamento. Segundo cite{elor2022smotesmote, técnicas de balanceamento de dados não melhoram a capacidade preditiva de modelos estado da arte, como os algoritmos de boosting. cite{elor2022smotesmote mostrou que balanceamento não melhora a capacidade preditiva de modelos Estado da Arte, como os modelos de Boosting. A recomendação é otimizar o threshold para melhorar modelos desbalanceados, o que foi aplicado neste artigo.\n",
    "\n",
    "A base de dados correspondente aos períodos de 2022 e 2023 foi utilizada tanto para treino quanto para validação interna, em uma proporção de 70% e 30%, respectivamente. A partir dessas amostras foram selecionados os melhores hiperparametros pela biblioteca Optuna, escolhidas as variáveis preditoras finais e escolhido o melhor modelo para a tarefa de predizer o risco de Baixo Peso ao Nascer. Já a base de teste, dados disponíveis de 2024, foi utilizada para reportar as métricas finais de validação do modelo.\n",
    "\n",
    "Métricas de validação\n",
    "\n",
    "Já com relação as métricas de validação observadas, este trabalho reporta a matriz de confusão, acurácia, Precision e Recall. A matriz de confusão é uma ferramenta de auxilio para melhor entender a distribuição de acertos e erros do modelo. A acurácia calcula a proporção de acertos do modelo na base de dados. Dado o alto nível de desbalanceamento da variável dependente, esta métrica deve ser observada com cuidado para não levar a interpretações incorretas da capacidade preditiva do modelo. Precision mede a proporção de verdadeiros positivos. Recall mede a assertividade dentre as observações positivas. Em outras palavras, quando a classe verdadeira era positiva, com que frequência o modelo predisse como positiva. Entendendo que o custo de falsos negativos seja maior do que o de falsos positivos para esse estudo, a métrica Recall foi priorizada no treino do modelo.\n",
    "\n",
    "Resultados\n",
    "\n",
    "A base de treino do modelo possuia 9,5% de Baixo Peso ao Nascer, dentre 4.074.684 milhões de nascidos entre 2022 e 2023. As Tabelas ,  ref{ possuem uma série de informações sobre a amostra com relação ao desfecho estudado.\n",
    "\n",
    "A Tabela  mostra que as médias de idade dos pais e das mães são muito similares entre os BPN e Não-BPN. No entanto, a Tabela ref{ mostra que mães com até 16 anos ou com mais de 35 anos apresentam maior proporção do desfecho. Assim como com relação a idade do pai, nos casos com até 16 anos ou maior que 45 anos.\n",
    "\n",
    "Já na Tabela  pode-se observar uma maior proporção de Baixo Peso ao Nascer em mães Solteira, Viúvas e Divorciadas se comparadas com mães Casadas e em União Estável, indicando que um maior suporte na gestação tem efeito no peso do bebê. E quanto maior a escolaridade da mãe, menor a incidência de BPN. Além disso, o Tipo de Gravidez também indica alguma relação com o desfecho, visto que nos casos de gravidez Dupla e Tripla ou Mais, a proporção de Baixo Peso ao Nascer observada foi de 62,88% e 96,05%, respectivamente.\n",
    "\n",
    "Também foi possível observar uma maior incidência de baixo peso ao nascer no caso de mães pretas. Se comparadas com mães brancas (menor valor), a proporção do desfecho é mais de 1,5% maior em mães pretas. Pode-se observar na Tabela  que a escolaridade da mãe tem um efeito negativo na proporção de baixo peso ao nascer: Quanto maior a escolaridade, menor a proporção do desfecho estudado.\n",
    "\n",
    "A maior parte dos partos registrados são nulíparos, então vemos uma maior proporção de BPN nessa categoria. No entanto, na Figura ref{fig:quantidade_gest podemos observar que a proporção do desfecho aumenta conforme o número de gestações anteriores aumentam. O mesmo ocorre para a quantidade de partos normais e cesária, e para a quantidade de filhos vivos e mortos (Vide Figura ref{fig:quantidades_4plots). Para o treino do modelo a variável referente a quantidade de gestações não foi considerada, visto que ela é uma combinação das variáveis sobre a quantidade de partos normais e quantidade de partos cesáreas.\n",
    "\n",
    "Os modelos Light Gradient Boosting (LGBM), CatBoost, Naive Bayes e Random Forest foram testados para verificar qual algoritmo desempenha melhor no problema em questão. A Tabela ref{ agrupa os resultados obtidos. Todos os modelos desempenharam de forma semelhante, de modo que poderíasse seguir com qualquer um dos 4. Optou-se por utilizar o Light Gradient Boosting por esse tipo de modelo já ser testado na literatura para essa mesma tarefa cite{Ranjbar2023-la.\n",
    "\n",
    "Após a escolha do modelo, aplicou-se a otimização de threshold com foco em melhorar o F1-Score na base de Validação Interna. As Tabelas ref{tab:tabela_MetricasValid e ref{tab:tabela_MetricasTeste concentram as métricas de validação das bases de Validação Interna e Teste (jan/24 - jun/24), respectivamente. Pode-se observar que os resultados foram os mesmos em ambos os casos, indicando que não houve overfitting durante o treino do modelo e que as bases são bem homogêneas nos diferentes períodos. No entanto, os resultados obtidos não são satisfatórios. \n",
    "\n",
    "Como o objetivo deste trabalho é prever o desfecho de Baixo Peso ao Nascer, a métrica Recall foi considerada a mais importante. O Recall, nesse caso, trata da quantidade de bebês com BPN que foram classificados como BPN pelo modelo. Pode-se observar que o Recall observado foi de 0,22. Ou seja, o modelo foi capaz de identificar somente 22% dos bebês registrados com baixo peso ao nascer.\n",
    "\n",
    "Desse modo, todos os nascidos no período recebem uma dessas 4 classificações conforme a sua probabilidade do desfecho. A categoria Baixo possui a maior quantidade de observações muito em função do desbalanceamento da base, e nessa categoria o modelo acerta pouco e agrupa a maior parte dos Baixo Peso ao Nascer. No entanto, conforme aumenta-se o risco de BPN, a capacidade do modelo em identificar quem realmente foi BPN aumenta. Na faixa Alto foram identificadas 11.188 observações, entre as quais 7.597 foram de bebês com baixo peso ao nascer, representando um percentual de 67,9%. Já na faixa Muito Alto, das 302 observações identificadas, 92,7% realmente foram BPN. Esses resultados nos mostram uma boa capacidade do modelo em identificar pacientes com maior risco de baixo peso ao nascer.\n",
    "\n",
    "Discussão\n",
    "\n",
    "A proposta do trabalho foi desenvolver um modelo de machine learning capaz de prever o risco de baixo peso ao nascer em bebês brasileiros, utilizando a base de dados do SINASC. Como se trata dos registros de nascidos vivos do Brasil, o conjunto de dados era muito grande se comparados aos utilizados em trabalhos anteriores, como cite{Ranjbar2023-la, cite{Islam_Pollob2022-we e cite{Singh2013-xv. No entanto, esses trabalhos dispunham de informações não disponíveis no SINASC, como dados de saúde da mãe e do feto. Nos seus trabalhos essa variáveis desempenharam papel importante na capacidade preditiva dos modelos.\n",
    "\n",
    "Além disso, este trabalho foi capaz de identificar fatores de risco para o desfecho de BPN e corroborar resultados encontrados anteriormente. cite{Chen2013 identificou que baixo nível de educação e histórico de partos adversos são fatores associados ao risco de baixo peso ao nascer. O mesmo resultado foi identificado aqui, onde a prevalencia do desfecho aumenta conforme a escolaridade diminui. Também foi observado um aumento no desfecho seguindo um aumento no histórico de filhos mortos, corroborando que partos adversos aumenta o risco de baixo peso ao nascer. Outrossim, seguindo o resultado obtido por cite{Ranjbar2023-la, o algoritmo de Machine Learning com melhores resultados foi o XGBoost.\n",
    "\n",
    "Pôde-se observar um efeito no Estado Civil da mãe, de modo que mulheres solteiras, viúvas ou divorcidadas estão mais propensas a desenvolverem gestações com BPN. Esse fator pode estar associado a falta de amparo no momento da gravidez, mas carece de estudos mais aprofundados nesse quesito. Além disso, a Cor da mãe também apresentou efeito no desfecho. Mães brancas possuem a menor incidência do desfecho, ao passo que mães pretas possuem a maior ocorrência de Baixo Peso ao Nascer.\n",
    "\n",
    "Também foi identificado um efeito muito significativo com relação ao Tipo de Gravidez. 96,05% dos partos triplos foram BPN, o que mostra a necessidade de uma maior atenção nesse tipo de ocasião. Por fim, a Quantidade de Gestações também parece ter impacto no desfecho, de modo que quanto mais partos (normal ou cesárea) a mãe passou, maior a incidência de BPN.\n",
    "\n",
    "Já com relação as métricas de validação do modelo, os resultados obtidos não apontam para uma boa separabilidade dos dados com as variáveis disponíveis. O Recall observado na base de Teste foi de 0,15, indicando que o modelo é capaz de identificar corretamente somente 15% dos nascidos com o desfecho estudado. No entanto, ao estratificar a probabilidade do desfecho por faixas de risco, pode-se observar uma boa capacidade do modelo em identificar os casos de mais alto risco, indicando uma caminho de futuras investigações e uso.\n",
    "\n",
    "Uma vez atingido o objetivo, esse modelo poderia ser utilizado para auxiliar médicos brasileiros na condução das gestações. Mas, para tal tarefa o modelo desenvolvido carece de boa acertividade. Os resultados aqui obtidos podem servir de indicativos para médicos no momento de iniciar um acompanhamento neonatal.\n",
    "\n",
    "Conclusão\n",
    "\n",
    "A proposta de desenvolver um modelo de Machine Learning capaz de prever o risco de baixo peso ao nascer utilizando a base de dados do SINASC não foi concluído de forma satisfatória, uma vez que o modelo criado carece de capacidade preditiva no desfecho de interesse. Utilizar o DATASUS limitou o tipo de variável disponível para o desenvolvimento, indicando que somente variáveis demográficas não são suficientes para a criação de um modelo preditivo.\n",
    "\"\"\""
   ]
  },
  {
   "cell_type": "code",
   "execution_count": 54,
   "metadata": {},
   "outputs": [],
   "source": [
    "import re\n",
    "\n",
    "# Step 1: Remove extra whitespace and newlines\n",
    "cleaned_text = re.sub(r'\\s+', ' ', text)\n",
    "\n",
    "# Step 2: Remove specific patterns like \"resumo\", \"Introdução\", etc.\n",
    "cleaned_text = re.sub(r'\\bresumo\\b', '', cleaned_text, flags=re.IGNORECASE)\n",
    "cleaned_text = re.sub(r'\\bIntrodução\\b', '', cleaned_text, flags=re.IGNORECASE)\n",
    "cleaned_text = re.sub(r'\\bRevisão da Literatura\\b', '', cleaned_text, flags=re.IGNORECASE)\n",
    "cleaned_text = re.sub(r'\\bMétodos\\b', '', cleaned_text, flags=re.IGNORECASE)\n",
    "cleaned_text = re.sub(r'\\bBase de dados\\b', '', cleaned_text, flags=re.IGNORECASE)\n",
    "\n",
    "# Step 3: Normalize text (optional)\n",
    "cleaned_text = cleaned_text.lower()  # Convert to lowercase\n",
    "#cleaned_text = re.sub(r'[^\\w\\s]', '', cleaned_text)  # Remove punctuation\n",
    "\n",
    "# Remove any remaining extra spaces\n",
    "cleaned_text = re.sub(r'\\s+', ' ', cleaned_text).strip()\n",
    "\n",
    "text = [cleaned_text]"
   ]
  },
  {
   "cell_type": "code",
   "execution_count": 55,
   "metadata": {},
   "outputs": [
    {
     "name": "stdout",
     "output_type": "stream",
     "text": [
      "o peso do recém-nascido é um fator importante para sua saúde e seu desenvolvimento. um individuo que nasce com peso abaixo do esperado pode representar riscos tanto para si quanto para a mãe. baixo peso ao nascer está relacionado a problemas no desenvolvimento da linguagem. conseguir prever o risco de baixo peso pode ser uma ferramenta médica importante. trabalhos anteriores com o mesmo objetivo utilizaram tanto informações da mãe como informações do bebê, a partir de exames neonatal. este trabalho propõe desenvolver um modelo de machine learning para prever o o risco de baixo peso ao nascer a partir de dados demográficos da mãe e do pai, disponíveis no sinasc datasus. segundo a organização mundial da saúde (oms), baixo peso ao nascer (bpn) é definido como peso inferior a 2500 gramas ao nascer independente do idade gestacional cite{who1. quando comparados com bebês que nasceram acima dessa linha de corte, nascidos de baixo peso possuem maior risco de óbito, podem apresentar problemas de crescimento e desenvolvimento intelectual. e quando adultos, podem apresentar maior risco de obesidade, desenvolvimento de doenças do coração e diabetes. parto prematuro, má nutrição materna, consumo de alcool e cigarro durante a gestação são fatores já conhecidos que aumentam o risco de bpn. a partir do momento que o médico possui a informação de que determinada gravidez possui alto risco de gerar um bebê com baixo peso, uma série de medidas podem ser tomadas para evitar esse desfecho. melhorar o status nutricional da mãe e o acesso a acompanhamento pré-natal são medidas que tendem a diminuir o risco de baixo peso ao nascer cite{who1. além disso, existe uma série de intervenções, em diferentes níveis, para previnir bpn. a nível nacional/regional podem ser adotados programas de proteção social, melhoria na qualidade de água, etc. já a nível pessoa, a suplementação de nutrientes como ferro e ácido fólico contribuem para um melhor desenvolvimento da gravidez cite{who2. a proporção de bpn no mundo varia, em média, entre cerca de 7% e 17%, com algumas regiões chegando até 26%. a partir de dados obtidos no datasus sinasc, em 2022 a proporção de baixo peso ao nascer foi de cerca de 9% no brasil. conseguir prever com atencedência esse risco pode ser uma importante ferramenta para auxiliar o médico na condução daquela gestação. trabalhos anteriores anteriores se ocuparam em desenvolver modelos de machine learning (ml) utilizando dados demográficos, condições de saúde pré-existentes e informações de exames pré-natal cite{ranjbar2023-la. nesse artigo nós buscamos desenvolver um modelo de machine learning com o objetivo de calcular a probabilidade de baixo peso ao nascer utilizando as variáveis disponíveis n'o sistema de informações sobre nascidos vivos (sinasc). diversos autores se ocuparam tanto em identificar fatores de risco quanto em desenvolver modelos de machine learning para prever baixo peso ao nascer. chen et al. (2013), a partir de uma base de 101.163 partos em 14 diferentes regiões na china pôde identificar que idade da mãe menor que 20 anos, com baixo nível de educação e histórico de partos adversos são fatores associados ao risco de baixo peso ao nascer. ranjbar et al. (2023) testou o uso dos algoritmos regressão logística (rl), árvore de decisão, floresta aleatória, deep learning fastforward, light gbm, xgboost, svm e knn com dados da iranian maternal and neonatal network (iman net) de janeiro de 2020 até janeiro de 2022 para desenvolver um modelo de ml capaz de prever baixo peso ao nascer. em um universo de 8.853 partos, 1.280 (14,5%) foram de bebês com o desfecho de interesse. além disso, os pesquisadores dispunham tanto de dados demográficos da mãe quanto sua informações de saúde e comorbidades. para o treino e validação do modelo, a base foi separada em amostra treino (70%) e teste (30%). já a validação interna foi realiza com k-fold cross-validation. com esses dados, a equipe constatou que o xgboost foi o melhor modelo para a tarefa, com acurácia de 0,79, precisão de 0,87, recall de 0,69 e f1 score de 0,77. e, dentre as variáveis disponíveis, idade gestacional e histórico de bpn foram os principais preditores. já islam pollob et al. (2022) trabalhou com uma base de 2351 respondentes proveniente da bangladesh demographic and health survey entre 2017 e 2018 para, também desenvolver um modelo capaz de prever bpn nesse contexto. dentre as observações, 16.2% foram bebês com baixo peso ao nascer. o estudo dispunha de informações demográficas da mãe, do parto ee do bebê. os algoritmos regressão logística e árvore de decisão foram utilizados, e observou-se que a rl atingiu os melhores resultados, com acurácia de 0,87 e auc de 0,59. no entanto, a conclusão do estudo foi de que seria necessária uma solução mais eficiente para ser utilizada na realidade de bangladesh. além disso, esse estudo utilizou variáveis obtidas no momento do parto, como local e tipo de parto. singh et al. (2013) realizou um estudo num hospital universitário de cuidados terciários no norte da índia, em uma base de 250 bpn e 250 com peso maior ou igual a 2.500g. além disso, esse estudo teve acesso a informações de partos anteriores e de saúde da mãe, como ganho de peso durante a gravidez, incidência de anemia e má nutrição, nível educacional e etc. os pesquisadores utilizaram seis variáveis preditoras, sendo elas: ganho de peso inadequado na mãe, quantidade de proteína inadequada na dieta da mãe, parto prematuro anterior, parto bpn anterior, anemia e fumante passiva. modelando com uma regressão logística, a equipe atingiu, na base de validação, sensibilidade de 72% e especificidade de 64%. diferente dos trabalhos anteriores, esse estudo busca desenvolver um modelo capaz de indicar o risco de baixo peso ao nascer com base em informações pessoais e demográficas da mãe e do pai. desse modo, na primeira consulta com o médico já seria possível entender a necessidade de cuidados especiais. além disso, o sistema de informações sobre nascidos vivos (sinasc) possui um amplo registro dos partos no brasil, o que nos permite trabalhar com uma muito maior do que os trabalhos anteriores. as descobertas desse estudo foram baseadas no sistema de informações sobre nascidos vivos (sinasc). este programa foi implementado em 1990 com o objetivo de coletar dados sobre os nascimentos em todo território nacional e para todos os níveis do sistema de saúde. agrupados por ano, as bases disponibilizadas contemplam uma série de informações demográficas sobre a mãe e o pai, além de informações sobre o próprio nascido. foram selecionados os períodos de 2022 e 2023 para comporem a base de treino e o período de 2024 para a base de teste. até a presente data, a base correspondente a 2024 possui nascimentos registrados até o dia 11 de junho de 2024. pré-processamento e modelagem a população alvo foi divida conforme o seu peso, nascidos com menos de 2500g foram chamados baixo peso ao nascer e nascidos com peso registrado maior ou igual a 2500g, não baixo peso ao nascer. observações sem o peso registrado foram desconsiderados da . além disso, as variáveis correspondentes a número de filhos vivos, número de gestações, número de partos normais, número de partos cesária e número de perdas fetais/abortos foram truncadas em 10, visto que uma proporção infima dos dados apresentaram valores maiores do que esse. para desenvolver o modelo preditor, os seguintes algorítmos foram testados na tarefa de prever baixo peso ao nascer: extreme gradient boosting (xgb), light gradient boosting (lgbm), catboost, naive bayes e random forest. para selecionar quais variáveis seriam consideradas no estudos como preditoras, duas linhas foram seguidas: variáveis sem ligação direta com o bebê, e o parto, e variáveis comuns nos estudos citados na seção de . desse modo, foram mantidas como possíveis variáveis dependentes a idade da mãe, idade do pai, estado civil da mãe, escolaridade em anos de estudo concluídos da mãe, número de filhos vivos e perdas fetais/abortos, número de partos normais e cesáreos, cor da mãe e tipo de gravidez (vide tabela ref{). todas as variáveis selecionadas possuiam valores faltantes, que foram substituídos pelo valor mais frequente correspondente. com exceção das variáveis estcivmae e escmae, que foram substituídas por 9, visto que é um valor padrão para dados faltantes da própria base. além disso, as variáveis categóricas foram transformadas em variáveis dummy segundo as suas categorias, com a técnica de onehotencoder. a linguagem de programação escolhida para desenvolver o estudo foi o python e as bibliotecas scikit-learn, pandas e seaborn foi utilizada para gerar os modelos de machine learning e as análises sobre as variáveis. apesar dos dados estarem desbalanceados, optou-se por não aplicar nenhuma técnica de balanceamento. segundo cite{elor2022smotesmote, técnicas de balanceamento de dados não melhoram a capacidade preditiva de modelos estado da arte, como os algoritmos de boosting. cite{elor2022smotesmote mostrou que balanceamento não melhora a capacidade preditiva de modelos estado da arte, como os modelos de boosting. a recomendação é otimizar o threshold para melhorar modelos desbalanceados, o que foi aplicado neste artigo. a correspondente aos períodos de 2022 e 2023 foi utilizada tanto para treino quanto para validação interna, em uma proporção de 70% e 30%, respectivamente. a partir dessas amostras foram selecionados os melhores hiperparametros pela biblioteca optuna, escolhidas as variáveis preditoras finais e escolhido o melhor modelo para a tarefa de predizer o risco de baixo peso ao nascer. já a base de teste, dados disponíveis de 2024, foi utilizada para reportar as métricas finais de validação do modelo. métricas de validação já com relação as métricas de validação observadas, este trabalho reporta a matriz de confusão, acurácia, precision e recall. a matriz de confusão é uma ferramenta de auxilio para melhor entender a distribuição de acertos e erros do modelo. a acurácia calcula a proporção de acertos do modelo na . dado o alto nível de desbalanceamento da variável dependente, esta métrica deve ser observada com cuidado para não levar a interpretações incorretas da capacidade preditiva do modelo. precision mede a proporção de verdadeiros positivos. recall mede a assertividade dentre as observações positivas. em outras palavras, quando a classe verdadeira era positiva, com que frequência o modelo predisse como positiva. entendendo que o custo de falsos negativos seja maior do que o de falsos positivos para esse estudo, a métrica recall foi priorizada no treino do modelo. resultados a base de treino do modelo possuia 9,5% de baixo peso ao nascer, dentre 4.074.684 milhões de nascidos entre 2022 e 2023. as tabelas , ref{ possuem uma série de informações sobre a amostra com relação ao desfecho estudado. a tabela mostra que as médias de idade dos pais e das mães são muito similares entre os bpn e não-bpn. no entanto, a tabela ref{ mostra que mães com até 16 anos ou com mais de 35 anos apresentam maior proporção do desfecho. assim como com relação a idade do pai, nos casos com até 16 anos ou maior que 45 anos. já na tabela pode-se observar uma maior proporção de baixo peso ao nascer em mães solteira, viúvas e divorciadas se comparadas com mães casadas e em união estável, indicando que um maior suporte na gestação tem efeito no peso do bebê. e quanto maior a escolaridade da mãe, menor a incidência de bpn. além disso, o tipo de gravidez também indica alguma relação com o desfecho, visto que nos casos de gravidez dupla e tripla ou mais, a proporção de baixo peso ao nascer observada foi de 62,88% e 96,05%, respectivamente. também foi possível observar uma maior incidência de baixo peso ao nascer no caso de mães pretas. se comparadas com mães brancas (menor valor), a proporção do desfecho é mais de 1,5% maior em mães pretas. pode-se observar na tabela que a escolaridade da mãe tem um efeito negativo na proporção de baixo peso ao nascer: quanto maior a escolaridade, menor a proporção do desfecho estudado. a maior parte dos partos registrados são nulíparos, então vemos uma maior proporção de bpn nessa categoria. no entanto, na figura ref{fig:quantidade_gest podemos observar que a proporção do desfecho aumenta conforme o número de gestações anteriores aumentam. o mesmo ocorre para a quantidade de partos normais e cesária, e para a quantidade de filhos vivos e mortos (vide figura ref{fig:quantidades_4plots). para o treino do modelo a variável referente a quantidade de gestações não foi considerada, visto que ela é uma combinação das variáveis sobre a quantidade de partos normais e quantidade de partos cesáreas. os modelos light gradient boosting (lgbm), catboost, naive bayes e random forest foram testados para verificar qual algoritmo desempenha melhor no problema em questão. a tabela ref{ agrupa os resultados obtidos. todos os modelos desempenharam de forma semelhante, de modo que poderíasse seguir com qualquer um dos 4. optou-se por utilizar o light gradient boosting por esse tipo de modelo já ser testado na literatura para essa mesma tarefa cite{ranjbar2023-la. após a escolha do modelo, aplicou-se a otimização de threshold com foco em melhorar o f1-score na base de validação interna. as tabelas ref{tab:tabela_metricasvalid e ref{tab:tabela_metricasteste concentram as métricas de validação das bases de validação interna e teste (jan/24 - jun/24), respectivamente. pode-se observar que os resultados foram os mesmos em ambos os casos, indicando que não houve overfitting durante o treino do modelo e que as bases são bem homogêneas nos diferentes períodos. no entanto, os resultados obtidos não são satisfatórios. como o objetivo deste trabalho é prever o desfecho de baixo peso ao nascer, a métrica recall foi considerada a mais importante. o recall, nesse caso, trata da quantidade de bebês com bpn que foram classificados como bpn pelo modelo. pode-se observar que o recall observado foi de 0,22. ou seja, o modelo foi capaz de identificar somente 22% dos bebês registrados com baixo peso ao nascer. desse modo, todos os nascidos no período recebem uma dessas 4 classificações conforme a sua probabilidade do desfecho. a categoria baixo possui a maior quantidade de observações muito em função do desbalanceamento da base, e nessa categoria o modelo acerta pouco e agrupa a maior parte dos baixo peso ao nascer. no entanto, conforme aumenta-se o risco de bpn, a capacidade do modelo em identificar quem realmente foi bpn aumenta. na faixa alto foram identificadas 11.188 observações, entre as quais 7.597 foram de bebês com baixo peso ao nascer, representando um percentual de 67,9%. já na faixa muito alto, das 302 observações identificadas, 92,7% realmente foram bpn. esses resultados nos mostram uma boa capacidade do modelo em identificar pacientes com maior risco de baixo peso ao nascer. discussão a proposta do trabalho foi desenvolver um modelo de machine learning capaz de prever o risco de baixo peso ao nascer em bebês brasileiros, utilizando a do sinasc. como se trata dos registros de nascidos vivos do brasil, o conjunto de dados era muito grande se comparados aos utilizados em trabalhos anteriores, como cite{ranjbar2023-la, cite{islam_pollob2022-we e cite{singh2013-xv. no entanto, esses trabalhos dispunham de informações não disponíveis no sinasc, como dados de saúde da mãe e do feto. nos seus trabalhos essa variáveis desempenharam papel importante na capacidade preditiva dos modelos. além disso, este trabalho foi capaz de identificar fatores de risco para o desfecho de bpn e corroborar resultados encontrados anteriormente. cite{chen2013 identificou que baixo nível de educação e histórico de partos adversos são fatores associados ao risco de baixo peso ao nascer. o mesmo resultado foi identificado aqui, onde a prevalencia do desfecho aumenta conforme a escolaridade diminui. também foi observado um aumento no desfecho seguindo um aumento no histórico de filhos mortos, corroborando que partos adversos aumenta o risco de baixo peso ao nascer. outrossim, seguindo o resultado obtido por cite{ranjbar2023-la, o algoritmo de machine learning com melhores resultados foi o xgboost. pôde-se observar um efeito no estado civil da mãe, de modo que mulheres solteiras, viúvas ou divorcidadas estão mais propensas a desenvolverem gestações com bpn. esse fator pode estar associado a falta de amparo no momento da gravidez, mas carece de estudos mais aprofundados nesse quesito. além disso, a cor da mãe também apresentou efeito no desfecho. mães brancas possuem a menor incidência do desfecho, ao passo que mães pretas possuem a maior ocorrência de baixo peso ao nascer. também foi identificado um efeito muito significativo com relação ao tipo de gravidez. 96,05% dos partos triplos foram bpn, o que mostra a necessidade de uma maior atenção nesse tipo de ocasião. por fim, a quantidade de gestações também parece ter impacto no desfecho, de modo que quanto mais partos (normal ou cesárea) a mãe passou, maior a incidência de bpn. já com relação as métricas de validação do modelo, os resultados obtidos não apontam para uma boa separabilidade dos dados com as variáveis disponíveis. o recall observado na base de teste foi de 0,15, indicando que o modelo é capaz de identificar corretamente somente 15% dos nascidos com o desfecho estudado. no entanto, ao estratificar a probabilidade do desfecho por faixas de risco, pode-se observar uma boa capacidade do modelo em identificar os casos de mais alto risco, indicando uma caminho de futuras investigações e uso. uma vez atingido o objetivo, esse modelo poderia ser utilizado para auxiliar médicos brasileiros na condução das gestações. mas, para tal tarefa o modelo desenvolvido carece de boa acertividade. os resultados aqui obtidos podem servir de indicativos para médicos no momento de iniciar um acompanhamento neonatal. conclusão a proposta de desenvolver um modelo de machine learning capaz de prever o risco de baixo peso ao nascer utilizando a do sinasc não foi concluído de forma satisfatória, uma vez que o modelo criado carece de capacidade preditiva no desfecho de interesse. utilizar o datasus limitou o tipo de variável disponível para o desenvolvimento, indicando que somente variáveis demográficas não são suficientes para a criação de um modelo preditivo.\n",
      "18327\n"
     ]
    }
   ],
   "source": [
    "print(cleaned_text)\n",
    "print(len(cleaned_text))"
   ]
  },
  {
   "cell_type": "code",
   "execution_count": 56,
   "metadata": {},
   "outputs": [],
   "source": [
    "from langchain.schema import Document\n",
    "from langchain.text_splitter import RecursiveCharacterTextSplitter\n",
    "from langchain_community.vectorstores.chroma import Chroma\n",
    "from langchain_community.embeddings import OllamaEmbeddings\n",
    "\n",
    "documents = [Document(page_content=str(text), \n",
    "                      metadata = {\"autor\": \"Gabriel Miranda\"})] #também poderia incluir a fonte do \"text: source: \"\n",
    "\n",
    "text_splitter = RecursiveCharacterTextSplitter(\n",
    "    chunk_size = 4000,\n",
    "    chunk_overlap = 400,\n",
    "    length_function = len\n",
    ")\n",
    "\n",
    "chunks = text_splitter.split_documents(documents)\n",
    "\n",
    "embedding = OllamaEmbeddings(\n",
    "    model=\"mistral\",\n",
    ")\n",
    "\n",
    "db = Chroma.from_documents(\n",
    "    documents = chunks,\n",
    "    embedding = embedding,\n",
    "    persist_directory = \"db\")"
   ]
  },
  {
   "cell_type": "code",
   "execution_count": 42,
   "metadata": {},
   "outputs": [],
   "source": [
    "retriever = db.as_retriever(\n",
    "    search_type = \"similarity\",\n",
    "    search_kwargs = {\"k\": 3}\n",
    ")"
   ]
  },
  {
   "cell_type": "code",
   "execution_count": 43,
   "metadata": {},
   "outputs": [
    {
     "data": {
      "text/plain": [
       "[Document(metadata={'autor': 'Gabriel Miranda'}, page_content='no entanto, conforme aumenta-se o risco de bpn, a capacidade do modelo em identificar quem realmente foi bpn aumenta. na faixa alto foram identificadas 11.188 observações, entre as quais 7.597 foram de bebês com baixo peso ao nascer, representando um percentual de 67,9%. já na faixa muito alto, das 302 observações identificadas, 92,7% realmente foram bpn. esses resultados nos mostram uma boa capacidade do modelo em identificar pacientes com maior risco de baixo peso ao nascer. discussão a proposta do trabalho foi desenvolver um modelo de machine learning capaz de prever o risco de baixo peso ao nascer em bebês brasileiros, utilizando a do sinasc. como se trata dos registros de nascidos vivos do brasil, o conjunto de dados era muito grande se comparados aos utilizados em trabalhos anteriores, como cite{ranjbar2023-la, cite{islam_pollob2022-we e cite{singh2013-xv. no entanto, esses trabalhos dispunham de informações não disponíveis no sinasc, como dados de saúde da mãe e do feto. nos seus trabalhos essa variáveis desempenharam papel importante na capacidade preditiva dos modelos. além disso, este trabalho foi capaz de identificar fatores de risco para o desfecho de bpn e corroborar resultados encontrados anteriormente. cite{chen2013 identificou que baixo nível de educação e histórico de partos adversos são fatores associados ao risco de baixo peso ao nascer. o mesmo resultado foi identificado aqui, onde a prevalencia do desfecho aumenta conforme a escolaridade diminui. também foi observado um aumento no desfecho seguindo um aumento no histórico de filhos mortos, corroborando que partos adversos aumenta o risco de baixo peso ao nascer. outrossim, seguindo o resultado obtido por cite{ranjbar2023-la, o algoritmo de machine learning com melhores resultados foi o xgboost. pôde-se observar um efeito no estado civil da mãe, de modo que mulheres solteiras, viúvas ou divorcidadas estão mais propensas a desenvolverem gestações com bpn. esse fator pode estar associado a falta de amparo no momento da gravidez, mas carece de estudos mais aprofundados nesse quesito. além disso, a cor da mãe também apresentou efeito no desfecho. mães brancas possuem a menor incidência do desfecho, ao passo que mães pretas possuem a maior ocorrência de baixo peso ao nascer. também foi identificado um efeito muito significativo com relação ao tipo de gravidez. 96,05% dos partos triplos foram bpn, o que mostra a necessidade de uma maior atenção nesse tipo de ocasião. por fim, a quantidade de gestações também parece ter impacto no desfecho, de modo que quanto mais partos (normal ou cesárea) a mãe passou, maior a incidência de bpn. já com relação as métricas de validação do modelo, os resultados obtidos não apontam para uma boa separabilidade dos dados com as variáveis disponíveis. o recall observado na base de teste foi de 0,15, indicando que o modelo é capaz de identificar corretamente somente 15% dos nascidos com o desfecho estudado. no entanto, ao estratificar a probabilidade do desfecho por faixas de risco, pode-se observar uma boa capacidade do modelo em identificar os casos de mais alto risco, indicando uma caminho de futuras investigações e uso. uma vez atingido o objetivo, esse modelo poderia ser utilizado para auxiliar médicos brasileiros na condução das gestações. mas, para tal tarefa o modelo desenvolvido carece de boa acertividade. os resultados aqui obtidos podem servir de indicativos para médicos no momento de iniciar um acompanhamento neonatal. conclusão a proposta de desenvolver um modelo de machine learning capaz de prever o risco de baixo peso ao nascer utilizando a do sinasc não foi concluído de forma satisfatória, uma vez que o modelo criado carece de capacidade preditiva no desfecho de interesse. utilizar o datasus limitou o tipo de variável disponível para o desenvolvimento, indicando que somente variáveis demográficas não são suficientes para a criação de um modelo preditivo.\"]'),\n",
       " Document(metadata={'autor': 'Gabriel Miranda'}, page_content='das 302 observações identificadas, 92,7% realmente foram BPN. Esses resultados nos mostram uma boa capacidade do modelo em identificar pacientes com maior risco de baixo peso ao nascer. Discussão A proposta do trabalho foi desenvolver um modelo de machine learning capaz de prever o risco de baixo peso ao nascer em bebês brasileiros, utilizando a do SINASC. Como se trata dos registros de nascidos vivos do Brasil, o conjunto de dados era muito grande se comparados aos utilizados em trabalhos anteriores, como cite{Ranjbar2023-la, cite{Islam_Pollob2022-we e cite{Singh2013-xv. No entanto, esses trabalhos dispunham de informações não disponíveis no SINASC, como dados de saúde da mãe e do feto. Nos seus trabalhos essa variáveis desempenharam papel importante na capacidade preditiva dos modelos. Além disso, este trabalho foi capaz de identificar fatores de risco para o desfecho de BPN e corroborar resultados encontrados anteriormente. cite{Chen2013 identificou que baixo nível de educação e histórico de partos adversos são fatores associados ao risco de baixo peso ao nascer. O mesmo resultado foi identificado aqui, onde a prevalencia do desfecho aumenta conforme a escolaridade diminui. Também foi observado um aumento no desfecho seguindo um aumento no histórico de filhos mortos, corroborando que partos adversos aumenta o risco de baixo peso ao nascer. Outrossim, seguindo o resultado obtido por cite{Ranjbar2023-la, o algoritmo de Machine Learning com melhores resultados foi o XGBoost. Pôde-se observar um efeito no Estado Civil da mãe, de modo que mulheres solteiras, viúvas ou divorcidadas estão mais propensas a desenvolverem gestações com BPN. Esse fator pode estar associado a falta de amparo no momento da gravidez, mas carece de estudos mais aprofundados nesse quesito. Além disso, a Cor da mãe também apresentou efeito no desfecho. Mães brancas possuem a menor incidência do desfecho, ao passo que mães pretas possuem a maior ocorrência de Baixo Peso ao Nascer. Também foi identificado um efeito muito significativo com relação ao Tipo de Gravidez. 96,05% dos partos triplos foram BPN, o que mostra a necessidade de uma maior atenção nesse tipo de ocasião. Por fim, a Quantidade de Gestações também parece ter impacto no desfecho, de modo que quanto mais partos (normal ou cesárea) a mãe passou, maior a incidência de BPN. Já com relação as métricas de validação do modelo, os resultados obtidos não apontam para uma boa separabilidade dos dados com as variáveis disponíveis. O Recall observado na base de Teste foi de 0,15, indicando que o modelo é capaz de identificar corretamente somente 15% dos nascidos com o desfecho estudado. No entanto, ao estratificar a probabilidade do desfecho por faixas de risco, pode-se observar uma boa capacidade do modelo em identificar os casos de mais alto risco, indicando uma caminho de futuras investigações e uso. Uma vez atingido o objetivo, esse modelo poderia ser utilizado para auxiliar médicos brasileiros na condução das gestações. Mas, para tal tarefa o modelo desenvolvido carece de boa acertividade. Os resultados aqui obtidos podem servir de indicativos para médicos no momento de iniciar um acompanhamento neonatal. Conclusão A proposta de desenvolver um modelo de Machine Learning capaz de prever o risco de baixo peso ao nascer utilizando a do SINASC não foi concluído de forma satisfatória, uma vez que o modelo criado carece de capacidade preditiva no desfecho de interesse. Utilizar o DATASUS limitou o tipo de variável disponível para o desenvolvimento, indicando que somente variáveis demográficas não são suficientes para a criação de um modelo preditivo.\"]'),\n",
       " Document(metadata={'autor': 'Gabriel Miranda'}, page_content=\"no DATASUS SINASC, em 2022 a proporção de Baixo Peso ao Nascer foi de cerca de 9% no Brasil. Conseguir prever com atencedência esse risco pode ser uma importante ferramenta para auxiliar o médico na condução daquela gestação.']\")]"
      ]
     },
     "execution_count": 43,
     "metadata": {},
     "output_type": "execute_result"
    }
   ],
   "source": [
    "retriever.get_relevant_documents(\n",
    "    \"Qual foi a proporção de Baixo Peso ao Nascer no Brasil em 2022?\"\n",
    ")"
   ]
  },
  {
   "cell_type": "code",
   "execution_count": null,
   "metadata": {},
   "outputs": [],
   "source": [
    "\"\"\"\n",
    "Answer the user query based on context. If you dont't know the answer or the context do not have the answer, say that you don't know.\n",
    "Answer in pt-BR.\n",
    "Answer the question directly.\n",
    "\"\"\""
   ]
  },
  {
   "cell_type": "code",
   "execution_count": 47,
   "metadata": {},
   "outputs": [],
   "source": [
    "#from langchain import hub \n",
    "#prompt= hub.pull(\"rlm/rag-prompt\")\n",
    "from langchain_core.prompts import PromptTemplate\n",
    "\n",
    "template = PromptTemplate.from_template(\"\"\"       \n",
    "Answer the question based only on the following context:\n",
    "\n",
    "{context}\n",
    "\n",
    "---\n",
    "\n",
    "Answer the question based on the above context: {question}\n",
    "\"\"\")\n",
    "\n",
    "def format_docs(docs):\n",
    "    return \"\\n\\n\".join(doc.page_content for doc in docs)\n",
    "\n",
    "from langchain_core.runnables import RunnablePassthrough\n",
    "from langchain_core.output_parsers import StrOutputParser\n",
    "\n",
    "rag_chain = (\n",
    "    {\"context\": retriever | format_docs, \"question\": RunnablePassthrough()}\n",
    "    | template \n",
    "    | llm \n",
    "    | StrOutputParser()\n",
    ")"
   ]
  },
  {
   "cell_type": "code",
   "execution_count": 50,
   "metadata": {},
   "outputs": [
    {
     "data": {
      "text/plain": [
       "'Segundo o texto, a proporção de Baixo Peso ao Nascer (BPN) no Brasil em 2022 foi cerca de 9% no Brasil, como mencionado no DATASUS SINASC.'"
      ]
     },
     "execution_count": 50,
     "metadata": {},
     "output_type": "execute_result"
    }
   ],
   "source": [
    "rag_chain.invoke(\"Qual foi a proporção de Baixo Peso ao Nascer no Brasil em 2022 citada no contexto?\")"
   ]
  },
  {
   "cell_type": "code",
   "execution_count": 49,
   "metadata": {},
   "outputs": [
    {
     "data": {
      "text/plain": [
       "'Segundo a discussão, o algoritmo de Machine Learning com melhores resultados foi o XGBoost.'"
      ]
     },
     "execution_count": 49,
     "metadata": {},
     "output_type": "execute_result"
    }
   ],
   "source": [
    "rag_chain.invoke(\"Quais modelos foram utilizados no treino do modelo?\")"
   ]
  }
 ],
 "metadata": {
  "kernelspec": {
   "display_name": "Python 3",
   "language": "python",
   "name": "python3"
  },
  "language_info": {
   "codemirror_mode": {
    "name": "ipython",
    "version": 3
   },
   "file_extension": ".py",
   "mimetype": "text/x-python",
   "name": "python",
   "nbconvert_exporter": "python",
   "pygments_lexer": "ipython3",
   "version": "3.11.3"
  }
 },
 "nbformat": 4,
 "nbformat_minor": 2
}
